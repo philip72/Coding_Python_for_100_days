{
 "cells": [
  {
   "cell_type": "code",
   "execution_count": 2,
   "metadata": {},
   "outputs": [
    {
     "name": "stdout",
     "output_type": "stream",
     "text": [
      "you have left 24090 days, 3432 weeks and 792 months\n"
     ]
    }
   ],
   "source": [
    "age=int(input('how old are you? '))\n",
    "\n",
    "calculate_how_days=90- age\n",
    "one_year= 365\n",
    "one_year_weeks= 52\n",
    "one_year_months= 12\n",
    "print(f'you have left {calculate_how_days*one_year} days, {calculate_how_days*one_year_weeks} weeks and {calculate_how_days*one_year_months} months')"
   ]
  }
 ],
 "metadata": {
  "kernelspec": {
   "display_name": "Python 3",
   "language": "python",
   "name": "python3"
  },
  "language_info": {
   "codemirror_mode": {
    "name": "ipython",
    "version": 3
   },
   "file_extension": ".py",
   "mimetype": "text/x-python",
   "name": "python",
   "nbconvert_exporter": "python",
   "pygments_lexer": "ipython3",
   "version": "3.11.3"
  }
 },
 "nbformat": 4,
 "nbformat_minor": 2
}
