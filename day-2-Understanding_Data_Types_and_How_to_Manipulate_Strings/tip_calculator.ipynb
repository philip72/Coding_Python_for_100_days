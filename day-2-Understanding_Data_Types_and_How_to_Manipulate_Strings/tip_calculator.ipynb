{
 "cells": [
  {
   "cell_type": "code",
   "execution_count": 3,
   "metadata": {},
   "outputs": [
    {
     "name": "stdout",
     "output_type": "stream",
     "text": [
      "Welcometo the tip Calculator\n",
      "\n",
      "each person will print 19.93\n"
     ]
    }
   ],
   "source": [
    "print('Welcometo the tip Calculator\\n')\n",
    "\n",
    "total_bill=float(input('what is the total bill? '))\n",
    "\n",
    "tip_percentage=float(input('what percentage tip would you like to give? '))\n",
    "\n",
    "no_of_ppl=int(input(' how many people are there'))\n",
    "\n",
    "tap_cal= (tip_percentage/100)*total_bill\n",
    "\n",
    "total_bill= tap_cal+total_bill\n",
    "\n",
    "each= round(total_bill/no_of_ppl, 2)\n",
    "\n",
    "message=f'each person will print {each}'\n",
    "print(message)"
   ]
  }
 ],
 "metadata": {
  "kernelspec": {
   "display_name": "Python 3",
   "language": "python",
   "name": "python3"
  },
  "language_info": {
   "codemirror_mode": {
    "name": "ipython",
    "version": 3
   },
   "file_extension": ".py",
   "mimetype": "text/x-python",
   "name": "python",
   "nbconvert_exporter": "python",
   "pygments_lexer": "ipython3",
   "version": "3.11.3"
  }
 },
 "nbformat": 4,
 "nbformat_minor": 2
}
