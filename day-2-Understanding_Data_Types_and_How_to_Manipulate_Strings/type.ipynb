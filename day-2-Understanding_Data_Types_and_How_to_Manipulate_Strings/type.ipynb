{
 "cells": [
  {
   "cell_type": "code",
   "execution_count": 1,
   "metadata": {},
   "outputs": [
    {
     "name": "stdout",
     "output_type": "stream",
     "text": [
      "<class 'int'>\n",
      "<class 'str'>\n",
      "what is your name6characters\n"
     ]
    }
   ],
   "source": [
    "num_char=len(input('what is your name'))\n",
    "print(type(num_char))\n",
    "\n",
    "new_num_char=str(num_char)\n",
    "print(type(new_num_char))\n",
    "\n",
    "print('what is your name ' + new_num_char + 'characters')"
   ]
  }
 ],
 "metadata": {
  "kernelspec": {
   "display_name": "Python 3",
   "language": "python",
   "name": "python3"
  },
  "language_info": {
   "codemirror_mode": {
    "name": "ipython",
    "version": 3
   },
   "file_extension": ".py",
   "mimetype": "text/x-python",
   "name": "python",
   "nbconvert_exporter": "python",
   "pygments_lexer": "ipython3",
   "version": "3.11.3"
  }
 },
 "nbformat": 4,
 "nbformat_minor": 2
}
