{
 "cells": [
  {
   "cell_type": "code",
   "execution_count": 1,
   "metadata": {},
   "outputs": [
    {
     "name": "stdout",
     "output_type": "stream",
     "text": [
      "3.2\n"
     ]
    }
   ],
   "source": [
    "#code\n",
    "import math\n",
    "def paint_cal(height=0, width=0, cover=0):\n",
    "    cans= (height*width) / cover\n",
    "\n",
    "    print(math.ceil(cans))\n",
    "\n",
    "test_h=int(input('Height of the wall: '))\n",
    "test_w= int(input('Width of wall: '))\n",
    "\n",
    "coverage= 5\n",
    "\n",
    "paint_cal(height=test_h, width=test_w, cover= coverage)"
   ]
  }
 ],
 "metadata": {
  "kernelspec": {
   "display_name": "Python 3",
   "language": "python",
   "name": "python3"
  },
  "language_info": {
   "codemirror_mode": {
    "name": "ipython",
    "version": 3
   },
   "file_extension": ".py",
   "mimetype": "text/x-python",
   "name": "python",
   "nbconvert_exporter": "python",
   "pygments_lexer": "ipython3",
   "version": "3.11.3"
  }
 },
 "nbformat": 4,
 "nbformat_minor": 2
}
