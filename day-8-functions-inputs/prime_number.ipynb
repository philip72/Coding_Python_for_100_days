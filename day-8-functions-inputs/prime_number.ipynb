{
 "cells": [
  {
   "cell_type": "code",
   "execution_count": null,
   "metadata": {},
   "outputs": [],
   "source": [
    "#code\n",
    "def prime_checker(number=0):\n",
    "    dividor = range(2, number)\n",
    "    is_true=True\n",
    "    for i  in dividor:\n",
    "        if number % i ==0:\n",
    "            is_true=False\n",
    "        if is_true:\n",
    "            print('it is')\n",
    "        else:\n",
    "            print('its not')\n",
    "\n",
    "n=int(input('check this number: '))\n",
    "\n",
    "prime_checker(number=n)"
   ]
  }
 ],
 "metadata": {
  "language_info": {
   "name": "python"
  }
 },
 "nbformat": 4,
 "nbformat_minor": 2
}
