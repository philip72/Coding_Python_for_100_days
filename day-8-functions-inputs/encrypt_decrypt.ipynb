{
 "cells": [
  {
   "cell_type": "code",
   "execution_count": 6,
   "metadata": {},
   "outputs": [
    {
     "name": "stdout",
     "output_type": "stream",
     "text": [
      "abzlab\n"
     ]
    }
   ],
   "source": [
    "import string\n",
    "\n",
    "alphabet = list(string.ascii_lowercase)\n",
    "\n",
    "direction= input(\"Type 'encode' to encrypt, type'decode' to decrypt:\\n \")\n",
    "text=input('Type your message:\\n').lower()\n",
    "shift=int(input('Type your shift number:\\n'))\n",
    "\n",
    "def ceaser(start_text, shift_amount, cipher_direction):\n",
    "    end_text=''\n",
    "    for each_letter in start_text:\n",
    "        position= alphabet.index(each_letter)\n",
    "        if cipher_direction=='decode':\n",
    "            shift_amount*=-1\n",
    "        new_position=position+shift_amount\n",
    "        end_text+=alphabet[new_position]\n",
    "\n",
    "        print(f'your {direction}d result: {end_text}')\n",
    "def encrypt(text='it', shift=0):\n",
    "    cipher_text=''\n",
    "    for letter in text:\n",
    "        position= alphabet.index(letter)\n",
    "        new_position= position+shift\n",
    "        new_letter= alphabet[new_position]\n",
    "        cipher_text+=new_letter\n",
    "    print(cipher_text)\n",
    "\n",
    "\n",
    "    print(cipher_text)\n",
    "\n",
    "\n",
    "def decrypt(cipher_text,shift):\n",
    "    decipher_text=''\n",
    "    for letter in cipher_text:\n",
    "        position= alphabet.index(letter)\n",
    "        new_position=position-shift\n",
    "        new_letter= alphabet[new_position]\n",
    "        decipher_text+=new_letter\n",
    "\n",
    "    print(decipher_text)\n",
    "\n",
    "def choose(text):\n",
    "    if text=='encode':\n",
    "        encrypt(text, shift)\n",
    "    elif text== 'decode':\n",
    "        decrypt(text, shift)\n",
    "    else:\n",
    "        print('wrong choice')\n",
    "\n",
    "choose(direction)"
   ]
  }
 ],
 "metadata": {
  "kernelspec": {
   "display_name": "Python 3",
   "language": "python",
   "name": "python3"
  },
  "language_info": {
   "codemirror_mode": {
    "name": "ipython",
    "version": 3
   },
   "file_extension": ".py",
   "mimetype": "text/x-python",
   "name": "python",
   "nbconvert_exporter": "python",
   "pygments_lexer": "ipython3",
   "version": "3.11.3"
  }
 },
 "nbformat": 4,
 "nbformat_minor": 2
}
