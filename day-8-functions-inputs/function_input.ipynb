{
 "cells": [
  {
   "cell_type": "code",
   "execution_count": null,
   "metadata": {},
   "outputs": [],
   "source": [
    "def greet():\n",
    "    print('hello\\n How do you do \\n')"
   ]
  },
  {
   "cell_type": "code",
   "execution_count": 1,
   "metadata": {},
   "outputs": [
    {
     "name": "stdout",
     "output_type": "stream",
     "text": [
      "Hello Philip\n"
     ]
    }
   ],
   "source": [
    "def greet_name(name):\n",
    "    print(f'Hello {name}')\n",
    "\n",
    "greet_name('Philip')"
   ]
  },
  {
   "cell_type": "markdown",
   "metadata": {},
   "source": [
    "Something= 123\n",
    "parameter - something\n",
    "argument - argument"
   ]
  },
  {
   "cell_type": "code",
   "execution_count": 2,
   "metadata": {},
   "outputs": [
    {
     "name": "stdout",
     "output_type": "stream",
     "text": [
      "Hello chicken\n",
      "What is like in here\n"
     ]
    }
   ],
   "source": [
    "def greet_with(name, location):# positional argument\n",
    "    print(f'Hello {name}')\n",
    "    print(f'What is like in {location}')\n",
    "def with_greet(name='Angela', location='nowhere'):\n",
    "    print(f'Hello {name}')\n",
    "    print(f'What is like in {location}')\n",
    "with_greet('chicken', 'here')"
   ]
  }
 ],
 "metadata": {
  "kernelspec": {
   "display_name": "Python 3",
   "language": "python",
   "name": "python3"
  },
  "language_info": {
   "codemirror_mode": {
    "name": "ipython",
    "version": 3
   },
   "file_extension": ".py",
   "mimetype": "text/x-python",
   "name": "python",
   "nbconvert_exporter": "python",
   "pygments_lexer": "ipython3",
   "version": "3.11.3"
  }
 },
 "nbformat": 4,
 "nbformat_minor": 2
}
