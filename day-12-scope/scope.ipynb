{
 "cells": [
  {
   "cell_type": "code",
   "execution_count": 1,
   "metadata": {},
   "outputs": [
    {
     "name": "stdout",
     "output_type": "stream",
     "text": [
      "enemies inside function 2\n",
      "enemies outside function 1\n"
     ]
    }
   ],
   "source": [
    "enemies= 1\n",
    "\n",
    "def increase_enemies():\n",
    "    enemies= 2\n",
    "    print(f'enemies inside function {enemies}')\n",
    "\n",
    "increase_enemies()\n",
    "\n",
    "print(f'enemies outside function {enemies}')\n"
   ]
  },
  {
   "cell_type": "code",
   "execution_count": 4,
   "metadata": {},
   "outputs": [
    {
     "name": "stdout",
     "output_type": "stream",
     "text": [
      "10\n"
     ]
    }
   ],
   "source": [
    "import random\n",
    "def welcome():\n",
    "    print('Welcome to the Number Guessing')\n",
    "\n",
    "def computer_guess():\n",
    "    cg= random.range(1, 101)\n",
    "    return cg\n",
    "\n",
    "def compare(comp_guess, user_input):\n",
    "    if comp_guess>user_input:\n",
    "        return 'Too low'\n",
    "    elif comp_guess<user_input:\n",
    "        return 'Too high'\n",
    "    else:\n",
    "        return f'You got it correct {comp_guess}'\n",
    "    \n",
    "def game_mode():\n",
    "    user_input_mode= input('Do you want to play easy or hard?').lower()\n",
    "    attempt=0\n",
    "\n",
    "    if user_input_mode=='easy':\n",
    "         attempt= 5\n",
    "    elif user_input_mode=='hard':\n",
    "        attempt=10\n",
    "    else:\n",
    "        return 0\n",
    "    return attempt\n",
    "    \n",
    "def play_game():\n",
    "    user_input=game_mode()\n",
    "    print(user_input)\n",
    "    computer_number= computer_guess()\n",
    "    user_guess= int(input('guess a number'))\n",
    "\n",
    "    compare(computer_number, user_guess)\n",
    "\n",
    "\n",
    "play_game()\n"
   ]
  }
 ],
 "metadata": {
  "kernelspec": {
   "display_name": "Python 3",
   "language": "python",
   "name": "python3"
  },
  "language_info": {
   "codemirror_mode": {
    "name": "ipython",
    "version": 3
   },
   "file_extension": ".py",
   "mimetype": "text/x-python",
   "name": "python",
   "nbconvert_exporter": "python",
   "pygments_lexer": "ipython3",
   "version": "3.11.3"
  }
 },
 "nbformat": 4,
 "nbformat_minor": 2
}
