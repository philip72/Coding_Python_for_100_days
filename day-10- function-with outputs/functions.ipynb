{
 "cells": [
  {
   "cell_type": "code",
   "execution_count": 3,
   "metadata": {},
   "outputs": [
    {
     "name": "stdout",
     "output_type": "stream",
     "text": [
      "Phil Jay\n"
     ]
    }
   ],
   "source": [
    "def format_name(first_name, last_name):\n",
    "    \"\"\"\n",
    "     Take first and last name \n",
    "       \"\"\"\n",
    "    if first_name=='' or last_name=='':\n",
    "        return'You havent provided'\n",
    "\n",
    "    first_name= first_name.title()\n",
    "    last_name= last_name.title()\n",
    "    return f'{first_name} {last_name}'\n",
    "\n",
    "print(format_name(input('What is your first name'), input('What is your second name')))\n"
   ]
  },
  {
   "cell_type": "code",
   "execution_count": 7,
   "metadata": {},
   "outputs": [
    {
     "name": "stdout",
     "output_type": "stream",
     "text": [
      "29\n"
     ]
    }
   ],
   "source": [
    "def is_leap(year):\n",
    "    \n",
    "    if year%4==0:\n",
    "        if year%100==0:\n",
    "            if year%400==0:\n",
    "                #print('year is a leap year')\n",
    "                return True\n",
    "            \n",
    "            else:\n",
    "                #print('year is not a leap year')\n",
    "                return False\n",
    "        else:\n",
    "            #print('year is a leap year')\n",
    "            return True\n",
    "    else:\n",
    "        #print('year is not a leap year')\n",
    "        return False\n",
    "\n",
    "def days_in_month(year, month):\n",
    "    months_days=[31,28,31,30,31,30,31,31,30,31,30,31]\n",
    "    is_leap(year)\n",
    "    if is_leap(year) and month ==2:\n",
    "        return 29\n",
    "    return months_days[month-1]\n",
    "\n",
    "    # if is_leap:\n",
    "    #     months_days[1]=29\n",
    "    #     return months_days[month]\n",
    "\n",
    "year= int(input('Enter year: '))\n",
    "month= int(input('Enter a month: '))\n",
    "days= days_in_month(year,month)\n",
    "print(days)"
   ]
  }
 ],
 "metadata": {
  "kernelspec": {
   "display_name": "Python 3",
   "language": "python",
   "name": "python3"
  },
  "language_info": {
   "codemirror_mode": {
    "name": "ipython",
    "version": 3
   },
   "file_extension": ".py",
   "mimetype": "text/x-python",
   "name": "python",
   "nbconvert_exporter": "python",
   "pygments_lexer": "ipython3",
   "version": "3.11.3"
  }
 },
 "nbformat": 4,
 "nbformat_minor": 2
}
