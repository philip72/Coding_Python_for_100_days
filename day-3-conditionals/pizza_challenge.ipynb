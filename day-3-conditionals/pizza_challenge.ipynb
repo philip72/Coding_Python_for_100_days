{
 "cells": [
  {
   "cell_type": "code",
   "execution_count": 2,
   "metadata": {},
   "outputs": [
    {
     "name": "stdout",
     "output_type": "stream",
     "text": [
      "Welcome to Python Pizza Deliveries\n"
     ]
    }
   ],
   "source": [
    "print('Welcome to Python Pizza Deliveries')\n",
    "\n",
    "size= input('What size of Pizza do you want? S, M or L').lower()\n",
    "\n",
    "add_peppeoni= input('Do you want pepperoni? Y or N').lower()\n",
    "\n",
    "extra_cheese= input('Do you want extra cheese? Y or N')\n",
    "\n",
    "bill= 0\n"
   ]
  },
  {
   "cell_type": "code",
   "execution_count": 4,
   "metadata": {},
   "outputs": [
    {
     "name": "stdout",
     "output_type": "stream",
     "text": [
      "Your bill is 15\n",
      "Your final bill is $20\n"
     ]
    }
   ],
   "source": [
    "if size=='s':\n",
    "    bill = 15\n",
    "    print('Your bill is 15')\n",
    "elif size=='m':\n",
    "    bill= 20\n",
    "    print('Your bill is 20')\n",
    "elif size=='l':\n",
    "    bill = 25\n",
    "    print('your bill is 25')\n",
    "if add_peppeoni=='y':\n",
    "    if size=='s':\n",
    "        bill+=2\n",
    "    else:\n",
    "        bill+=3\n",
    "if extra_cheese =='y':\n",
    "    bill+=3\n",
    "\n",
    "\n",
    "print(f'Your final bill is ${bill}')\n"
   ]
  }
 ],
 "metadata": {
  "kernelspec": {
   "display_name": "Python 3",
   "language": "python",
   "name": "python3"
  },
  "language_info": {
   "codemirror_mode": {
    "name": "ipython",
    "version": 3
   },
   "file_extension": ".py",
   "mimetype": "text/x-python",
   "name": "python",
   "nbconvert_exporter": "python",
   "pygments_lexer": "ipython3",
   "version": "3.11.3"
  }
 },
 "nbformat": 4,
 "nbformat_minor": 2
}
