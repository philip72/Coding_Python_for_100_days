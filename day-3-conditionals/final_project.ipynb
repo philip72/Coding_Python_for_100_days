{
 "cells": [
  {
   "cell_type": "code",
   "execution_count": null,
   "metadata": {},
   "outputs": [],
   "source": [
    "print('Welcome to Treasure Island \\n Your mission is to find the treasure')\n",
    "\n",
    "cross_road_answer=input(\"You're are at a cross road. Where do you want to go? Type 'left' or 'right'\").lower()\n",
    "\n",
    "if cross_road_answer=='left':\n",
    "    print('You come to a lake. There is an island in the middle of the lake.\\n')\n",
    "    descision= input('Type \"wait\" to wait for the boat. Type \"swim\" to swim across ')\n",
    "    if descision=='wait':\n",
    "        print('You arrive at the island unharmed. There is a house with 3 doors. One red, One yellow and one blue.')\n",
    "        color_chosen=input('Which Color do you choose? ')\n",
    "        if color_chosen=='blue':\n",
    "            print('You enter are room of beasts. Game over')\n",
    "        elif color_chosen=='yellow':\n",
    "            print('You win!!')\n",
    "        elif color_chosen=='red':\n",
    "            print('You lose. Game over')\n",
    "    else:\n",
    "        print('Game over')\n",
    "elif cross_road_answer=='right':\n",
    "    print('Game over')\n",
    "\n"
   ]
  },
  {
   "cell_type": "markdown",
   "metadata": {},
   "source": [
    "three single quotes to be able to print more lines of a str\n",
    "use backslash to make it ignore a character You\\'re"
   ]
  }
 ],
 "metadata": {
  "language_info": {
   "name": "python"
  }
 },
 "nbformat": 4,
 "nbformat_minor": 2
}
