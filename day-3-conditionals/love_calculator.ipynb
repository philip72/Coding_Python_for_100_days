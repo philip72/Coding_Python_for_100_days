{
 "cells": [
  {
   "cell_type": "code",
   "execution_count": 1,
   "metadata": {},
   "outputs": [
    {
     "name": "stdout",
     "output_type": "stream",
     "text": [
      "WElcome to the Love Calculator\n"
     ]
    }
   ],
   "source": [
    "print('WElcome to the Love Calculator')\n",
    "name1= input('What is your name? \\n').lower()\n",
    "name2= input('What is their name? \\n').lower()"
   ]
  },
  {
   "cell_type": "code",
   "execution_count": 2,
   "metadata": {},
   "outputs": [],
   "source": [
    "calc_true= 'true'\n",
    "calc_love= 'love'\n",
    "true_total= 0\n",
    "love_total=0\n"
   ]
  },
  {
   "cell_type": "code",
   "execution_count": 3,
   "metadata": {},
   "outputs": [
    {
     "name": "stdout",
     "output_type": "stream",
     "text": [
      "0\n"
     ]
    }
   ],
   "source": [
    "true_total+=name1.count(calc_true[0])\n",
    "true_total+=name1.count(calc_true[1])\n",
    "true_total+=name1.count(calc_true[2])\n",
    "true_total+=name1.count(calc_true[3])\n",
    "\n",
    "print(true_total)\n",
    "\n"
   ]
  }
 ],
 "metadata": {
  "kernelspec": {
   "display_name": "Python 3",
   "language": "python",
   "name": "python3"
  },
  "language_info": {
   "codemirror_mode": {
    "name": "ipython",
    "version": 3
   },
   "file_extension": ".py",
   "mimetype": "text/x-python",
   "name": "python",
   "nbconvert_exporter": "python",
   "pygments_lexer": "ipython3",
   "version": "3.11.3"
  }
 },
 "nbformat": 4,
 "nbformat_minor": 2
}
