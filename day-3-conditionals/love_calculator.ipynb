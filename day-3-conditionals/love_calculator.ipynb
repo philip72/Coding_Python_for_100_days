{
 "cells": [
  {
   "cell_type": "code",
   "execution_count": 1,
   "metadata": {},
   "outputs": [
    {
     "name": "stdout",
     "output_type": "stream",
     "text": [
      "WElcome to the Love Calculator\n"
     ]
    }
   ],
   "source": [
    "print('WElcome to the Love Calculator')\n",
    "name1= input('What is your name? \\n').lower()\n",
    "name2= input('What is their name? \\n').lower()"
   ]
  },
  {
   "cell_type": "code",
   "execution_count": 2,
   "metadata": {},
   "outputs": [],
   "source": [
    "calc_true= 'true'\n",
    "calc_love= 'love'\n",
    "true_total= 0\n",
    "love_total=0\n"
   ]
  },
  {
   "cell_type": "code",
   "execution_count": 5,
   "metadata": {},
   "outputs": [
    {
     "name": "stdout",
     "output_type": "stream",
     "text": [
      "4\n",
      "3\n"
     ]
    }
   ],
   "source": [
    "true_total+=name1.count(calc_true[0])\n",
    "true_total+=name1.count(calc_true[1])\n",
    "true_total+=name1.count(calc_true[2])\n",
    "true_total+=name1.count(calc_true[3])\n",
    "\n",
    "true_total+=name2.count(calc_true[0])\n",
    "true_total+=name2.count(calc_true[1])\n",
    "true_total+=name2.count(calc_true[2])\n",
    "true_total+=name2.count(calc_true[3])\n",
    "print(true_total)\n",
    "love_total+=name1.count(calc_love[0])\n",
    "love_total+=name1.count(calc_love[1])\n",
    "love_total+=name1.count(calc_love[2])\n",
    "love_total+=name1.count(calc_love[3])\n",
    "\n",
    "love_total+=name2.count(calc_love[0])\n",
    "love_total+=name2.count(calc_love[1])\n",
    "love_total+=name2.count(calc_love[2])\n",
    "love_total+=name2.count(calc_love[3])\n",
    "\n",
    "print(love_total)"
   ]
  },
  {
   "cell_type": "code",
   "execution_count": 7,
   "metadata": {},
   "outputs": [
    {
     "name": "stdout",
     "output_type": "stream",
     "text": [
      "43\n"
     ]
    }
   ],
   "source": [
    "percentage= str(true_total)+str(love_total)\n",
    "print(percentage)\n",
    "percentage=int(percentage)"
   ]
  },
  {
   "cell_type": "code",
   "execution_count": 8,
   "metadata": {},
   "outputs": [
    {
     "name": "stdout",
     "output_type": "stream",
     "text": [
      "Your score is 43, you are alright together\n"
     ]
    }
   ],
   "source": [
    "if 10>= percentage or percentage>=90:\n",
    "    print(f'Your score is {percentage}, you together are like coke and mentos')\n",
    "elif 40<percentage and percentage<50:\n",
    "    print(f'Your score is {percentage}, you are alright together')"
   ]
  },
  {
   "cell_type": "markdown",
   "metadata": {},
   "source": [
    "her approach (Angela Yu)"
   ]
  },
  {
   "cell_type": "code",
   "execution_count": 9,
   "metadata": {},
   "outputs": [],
   "source": [
    "combined_string= name1 + name2\n",
    "lower_case_string= combined_string.lower()\n",
    "\n"
   ]
  },
  {
   "cell_type": "code",
   "execution_count": null,
   "metadata": {},
   "outputs": [],
   "source": [
    "t= lower_case_string.count('t')\n",
    "r= lower_case_string.count('r')\n",
    "u= lower_case_string.count('u')\n",
    "e= lower_case_string.count('e')\n",
    "\n",
    "true= t+r+u+e\n"
   ]
  }
 ],
 "metadata": {
  "kernelspec": {
   "display_name": "Python 3",
   "language": "python",
   "name": "python3"
  },
  "language_info": {
   "codemirror_mode": {
    "name": "ipython",
    "version": 3
   },
   "file_extension": ".py",
   "mimetype": "text/x-python",
   "name": "python",
   "nbconvert_exporter": "python",
   "pygments_lexer": "ipython3",
   "version": "3.11.3"
  }
 },
 "nbformat": 4,
 "nbformat_minor": 2
}
