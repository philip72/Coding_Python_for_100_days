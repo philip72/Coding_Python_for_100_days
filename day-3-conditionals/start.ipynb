{
 "cells": [
  {
   "cell_type": "code",
   "execution_count": 1,
   "metadata": {},
   "outputs": [
    {
     "name": "stdout",
     "output_type": "stream",
     "text": [
      "welcome to the rollcoaster\n"
     ]
    }
   ],
   "source": [
    "print('welcome to the rollcoaster')\n",
    "height= int(input('What is your height? '))\n",
    "ticket_price=0\n",
    "# if else"
   ]
  },
  {
   "cell_type": "code",
   "execution_count": 2,
   "metadata": {},
   "outputs": [
    {
     "name": "stdout",
     "output_type": "stream",
     "text": [
      "you can ride the rollcoaster\n",
      "25\n",
      "your total bill is 28\n"
     ]
    }
   ],
   "source": [
    "if height>120:\n",
    "    print('you can ride the rollcoaster')\n",
    "    age= int(input('What is your age? '))\n",
    "    if age<12:\n",
    "        ticket_price=7\n",
    "        print(f'Your {ticket_price}')\n",
    "    elif age<=18:\n",
    "        ticket_price=18\n",
    "        print(f'{ticket_price}')\n",
    "    else:\n",
    "        ticket_price=25\n",
    "        print(f'{ticket_price}')\n",
    "    wants_photo=input('Dou want to take photo? Y or N').lower()\n",
    "    if wants_photo== 'Y':\n",
    "        ticket_price+=3\n",
    "        print(f'your total bill is {ticket_price}')\n",
    "    else:\n",
    "        print(f'Your bill is {ticket_price}')\n",
    "else: \n",
    "    print('Sorry you cant ride the rollercoaster')"
   ]
  },
  {
   "cell_type": "code",
   "execution_count": 2,
   "metadata": {},
   "outputs": [
    {
     "name": "stdout",
     "output_type": "stream",
     "text": [
      "Your number is an odd number\n"
     ]
    }
   ],
   "source": [
    "number= int(input('Type any number'))\n",
    "\n",
    "if (number%2)==0:\n",
    "    print('Your number is even')\n",
    "else:\n",
    "    print('Your number is an odd number')"
   ]
  }
 ],
 "metadata": {
  "kernelspec": {
   "display_name": "Python 3",
   "language": "python",
   "name": "python3"
  },
  "language_info": {
   "codemirror_mode": {
    "name": "ipython",
    "version": 3
   },
   "file_extension": ".py",
   "mimetype": "text/x-python",
   "name": "python",
   "nbconvert_exporter": "python",
   "pygments_lexer": "ipython3",
   "version": "3.11.3"
  }
 },
 "nbformat": 4,
 "nbformat_minor": 2
}
