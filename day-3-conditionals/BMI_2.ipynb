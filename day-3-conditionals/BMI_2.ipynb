{
 "cells": [
  {
   "cell_type": "code",
   "execution_count": 9,
   "metadata": {},
   "outputs": [
    {
     "name": "stdout",
     "output_type": "stream",
     "text": [
      "30.859374999999993\n",
      ", Your height is 1.6, weight 79.0 Your BMI is 30.9\n",
      "\n",
      "You are Obese\n"
     ]
    }
   ],
   "source": [
    "height= float(input('What is your height in M? '))\n",
    "weight = float(input('What is your weight in KG? '))\n",
    "\n",
    "print( weight/(height**2))\n",
    "BMI= round(weight/(height**2), 1)\n",
    "\n",
    "print(f', Your height is {height}, weight {weight} Your BMI is {BMI}\\n')\n",
    "\n",
    "if BMI < 18.5:\n",
    "    print('You are underweight')\n",
    "elif 25>BMI>18.5:\n",
    "    print('you are a normal weight')\n",
    "elif 25<BMI<30:\n",
    "    print('You are overweight')\n",
    "elif 30<BMI<35:\n",
    "    print('You are Obese')\n",
    "else:\n",
    "    print('you are clinically obese')\n"
   ]
  }
 ],
 "metadata": {
  "kernelspec": {
   "display_name": "Python 3",
   "language": "python",
   "name": "python3"
  },
  "language_info": {
   "codemirror_mode": {
    "name": "ipython",
    "version": 3
   },
   "file_extension": ".py",
   "mimetype": "text/x-python",
   "name": "python",
   "nbconvert_exporter": "python",
   "pygments_lexer": "ipython3",
   "version": "3.11.3"
  }
 },
 "nbformat": 4,
 "nbformat_minor": 2
}
