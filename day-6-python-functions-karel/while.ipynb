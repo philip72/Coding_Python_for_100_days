{
 "cells": [
  {
   "cell_type": "code",
   "execution_count": null,
   "metadata": {},
   "outputs": [],
   "source": [
    "guessed_number=int(input('Guess a number between 1 and 10'))\n",
    "\n",
    "computer_number= random.radint(1,10)\n",
    "\n",
    "while guessed_number!=computer_number:\n",
    "    if guessed_number>computer_number:\n",
    "        print('guessed number is to high')\n",
    "    else:\n",
    "        print('guessed number is lower')\n",
    "\n",
    "print('you got the correct number')"
   ]
  }
 ],
 "metadata": {
  "language_info": {
   "name": "python"
  }
 },
 "nbformat": 4,
 "nbformat_minor": 2
}
