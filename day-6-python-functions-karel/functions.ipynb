{
 "cells": [
  {
   "cell_type": "code",
   "execution_count": null,
   "metadata": {},
   "outputs": [],
   "source": [
    "def my_first():\n",
    "    print('Hello')\n",
    "\n",
    "my_first()"
   ]
  },
  {
   "cell_type": "code",
   "execution_count": null,
   "metadata": {},
   "outputs": [],
   "source": [
    "def max_three(a):\n",
    "    \n",
    "    n= 0\n",
    "    for k in a:\n",
    "        if n<k:\n",
    "            n=k\n",
    "    return k\n",
    "\n",
    "a=[1,2,3]\n"
   ]
  }
 ],
 "metadata": {
  "language_info": {
   "name": "python"
  }
 },
 "nbformat": 4,
 "nbformat_minor": 2
}
