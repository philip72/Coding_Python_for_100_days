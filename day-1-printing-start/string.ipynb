{
 "cells": [
  {
   "cell_type": "code",
   "execution_count": 1,
   "metadata": {},
   "outputs": [
    {
     "name": "stdout",
     "output_type": "stream",
     "text": [
      "hello world\n",
      "hello world\n",
      "hello world\n",
      "\n"
     ]
    }
   ],
   "source": [
    "print('hello world\\n'*3)"
   ]
  },
  {
   "cell_type": "code",
   "execution_count": 4,
   "metadata": {},
   "outputs": [
    {
     "name": "stdout",
     "output_type": "stream",
     "text": [
      "Hello Phil\n"
     ]
    }
   ],
   "source": [
    "print('Hello' + ' ' + 'Phil')"
   ]
  },
  {
   "cell_type": "markdown",
   "metadata": {},
   "source": [
    "Debugging:\n",
    "*print(Day 1 - String Manipulation*\n",
    "*Print (\"String Concatenation is done with the \"+\" sign.\")*\n",
    "*print('e.g. print(\"Hello\"+\" World\")')*\n",
    "*print((\"New Liners can be created with a backslash and n.\")*"
   ]
  },
  {
   "cell_type": "code",
   "execution_count": 5,
   "metadata": {},
   "outputs": [
    {
     "name": "stdout",
     "output_type": "stream",
     "text": [
      "Day 1 - String Manipulation\n",
      "String Concatenation is done with the \"+\" sign.\n",
      "e.g. print(\"Hello\" + \" World\")\n",
      "New lines can be created  with a backslash and n.\n"
     ]
    }
   ],
   "source": [
    "print('Day 1 - String Manipulation\\n' + 'String Concatenation is done with the \"+\" sign.\\n' + 'e.g. print(\"Hello\" + \" World\")\\n' + ('New lines can be created  with a backslash and n.'))"
   ]
  }
 ],
 "metadata": {
  "kernelspec": {
   "display_name": "Python 3",
   "language": "python",
   "name": "python3"
  },
  "language_info": {
   "codemirror_mode": {
    "name": "ipython",
    "version": 3
   },
   "file_extension": ".py",
   "mimetype": "text/x-python",
   "name": "python",
   "nbconvert_exporter": "python",
   "pygments_lexer": "ipython3",
   "version": "3.11.3"
  }
 },
 "nbformat": 4,
 "nbformat_minor": 2
}
