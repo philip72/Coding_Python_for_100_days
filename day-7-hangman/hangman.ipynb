{
 "cells": [
  {
   "cell_type": "code",
   "execution_count": null,
   "metadata": {},
   "outputs": [],
   "source": [
    "import random\n",
    "\n",
    "words_list=['chick', 'full', 'yet']\n",
    "\n",
    "display=[]\n",
    "\n",
    "picked_word= random.choice(words_list)\n",
    "\n",
    "print(f'The word to be guessed is {picked_word}')\n",
    "\n",
    "for each_letter in picked_word:\n",
    "    display.append('_')\n",
    "print(display)\n",
    "\n",
    "guess= input('pick a letter').lower()\n",
    "\n",
    "for position in range(len(picked_word)):\n",
    "    x= picked_word[position]\n",
    "    \n",
    "    if x == guess:\n",
    "        print('right')\n",
    "    else:\n",
    "        print('wrong')\n"
   ]
  }
 ],
 "metadata": {
  "language_info": {
   "name": "python"
  }
 },
 "nbformat": 4,
 "nbformat_minor": 2
}
