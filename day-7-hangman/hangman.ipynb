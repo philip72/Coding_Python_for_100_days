{
 "cells": [
  {
   "cell_type": "code",
   "execution_count": 5,
   "metadata": {},
   "outputs": [
    {
     "name": "stdout",
     "output_type": "stream",
     "text": [
      "The word to be guessed is full\n",
      "['_', '_', '_', '_']\n"
     ]
    },
    {
     "name": "stdout",
     "output_type": "stream",
     "text": [
      "['_', '_', '_', '_']\n"
     ]
    }
   ],
   "source": [
    "import random\n",
    "\n",
    "words_list=['chick', 'full', 'yet']\n",
    "\n",
    "\n",
    "picked_word= random.choice(words_list)\n",
    "\n",
    "print(f'The word to be guessed is {picked_word}')\n",
    "\n",
    "display=[]\n",
    "for each_letter in picked_word:# for _ in range(len(picked_word))\n",
    "        display.append('_')\n",
    "print(display)\n",
    "\n",
    "end_of_game=False\n",
    "lives=6\n",
    "while not end_of_game:\n",
    "    guess= input('pick a letter').lower()\n",
    "\n",
    "    if guess in display:\n",
    "         print('you have guessed this leteer')\n",
    "\n",
    "    for position in range(len(picked_word)):\n",
    "        x= picked_word[position]\n",
    "        \n",
    "        if x == guess:\n",
    "            display[position]= x\n",
    "    if guess not in picked_word:\n",
    "        lives-=1\n",
    "        if lives==0:\n",
    "             end_of_game=True\n",
    "       \n",
    "\n",
    "    \n",
    "    print(display)\n",
    "    if '_' not in display:\n",
    "        end_of_game=True\n",
    "        print(' you win')\n",
    "\n",
    "\n"
   ]
  }
 ],
 "metadata": {
  "kernelspec": {
   "display_name": "Python 3",
   "language": "python",
   "name": "python3"
  },
  "language_info": {
   "codemirror_mode": {
    "name": "ipython",
    "version": 3
   },
   "file_extension": ".py",
   "mimetype": "text/x-python",
   "name": "python",
   "nbconvert_exporter": "python",
   "pygments_lexer": "ipython3",
   "version": "3.11.3"
  }
 },
 "nbformat": 4,
 "nbformat_minor": 2
}
