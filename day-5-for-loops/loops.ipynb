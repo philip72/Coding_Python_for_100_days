{
 "cells": [
  {
   "cell_type": "code",
   "execution_count": 1,
   "metadata": {},
   "outputs": [
    {
     "name": "stdout",
     "output_type": "stream",
     "text": [
      "Apple\n",
      "Peach\n",
      "Pear\n"
     ]
    }
   ],
   "source": [
    "fruits= ['Apple', 'Peach', 'Pear']\n",
    "\n",
    "for fruit in fruits:\n",
    "    print(fruit)\n",
    "    "
   ]
  },
  {
   "cell_type": "code",
   "execution_count": 26,
   "metadata": {},
   "outputs": [
    {
     "name": "stdout",
     "output_type": "stream",
     "text": [
      "[67, 69, 62]\n",
      "66.0\n",
      "69\n"
     ]
    }
   ],
   "source": [
    "#Average student height\n",
    "\n",
    "student_heights=input('Enter a list of students heights').split()\n",
    "\n",
    "for n in range(0, len(student_heights)):\n",
    "    student_heights[n]=int(student_heights[n])\n",
    "print(student_heights)\n",
    "\n",
    "total_height=0\n",
    "for height in student_heights:\n",
    "    total_height+=height\n",
    "students_total= 0\n",
    "for height in student_heights:\n",
    "    students_total+=1\n",
    "Average= round(total_height/students_total, 2)\n",
    "print(Average)\n",
    "\n",
    "heightest_score=0\n",
    "\n",
    "for score in student_heights:\n",
    "    if score>heightest_score:\n",
    "        heightest_score=score\n",
    "print(heightest_score)"
   ]
  },
  {
   "cell_type": "code",
   "execution_count": 27,
   "metadata": {},
   "outputs": [
    {
     "name": "stdout",
     "output_type": "stream",
     "text": [
      "5050\n"
     ]
    }
   ],
   "source": [
    "sum=0\n",
    "for i in range(1,101):\n",
    "    sum+=i\n",
    "print(sum)\n"
   ]
  }
 ],
 "metadata": {
  "kernelspec": {
   "display_name": "Python 3",
   "language": "python",
   "name": "python3"
  },
  "language_info": {
   "codemirror_mode": {
    "name": "ipython",
    "version": 3
   },
   "file_extension": ".py",
   "mimetype": "text/x-python",
   "name": "python",
   "nbconvert_exporter": "python",
   "pygments_lexer": "ipython3",
   "version": "3.11.3"
  }
 },
 "nbformat": 4,
 "nbformat_minor": 2
}
