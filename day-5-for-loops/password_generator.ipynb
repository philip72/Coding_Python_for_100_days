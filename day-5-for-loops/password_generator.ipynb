{
 "cells": [
  {
   "cell_type": "code",
   "execution_count": null,
   "metadata": {},
   "outputs": [],
   "source": [
    "print('Welcome to the PyPasswoord Generator!')\n",
    "\n",
    "letters_no= input('How many letters would you like in your password? \\n')\n",
    "\n",
    "symbols_no= input ('How many Symbols would you like? \\n')\n",
    "\n",
    "numbers_no= input('How many numbers do you want? \\n')\n"
   ]
  },
  {
   "cell_type": "code",
   "execution_count": 2,
   "metadata": {},
   "outputs": [
    {
     "ename": "TypeError",
     "evalue": "can only concatenate list (not \"int\") to list",
     "output_type": "error",
     "traceback": [
      "\u001b[1;31m---------------------------------------------------------------------------\u001b[0m",
      "\u001b[1;31mTypeError\u001b[0m                                 Traceback (most recent call last)",
      "Cell \u001b[1;32mIn[2], line 9\u001b[0m\n\u001b[0;32m      6\u001b[0m numbers\u001b[38;5;241m=\u001b[39m[]\n\u001b[0;32m      7\u001b[0m symbols\u001b[38;5;241m=\u001b[39m[]\n\u001b[1;32m----> 9\u001b[0m \u001b[38;5;28;01mfor\u001b[39;00m n \u001b[38;5;129;01min\u001b[39;00m \u001b[38;5;28mrange\u001b[39m(\u001b[38;5;241m1\u001b[39m, \u001b[43mletters\u001b[49m\u001b[38;5;241;43m+\u001b[39;49m\u001b[38;5;241;43m1\u001b[39;49m):\n\u001b[0;32m     10\u001b[0m     password\u001b[38;5;241m+\u001b[39m\u001b[38;5;241m=\u001b[39mrandom\u001b[38;5;241m.\u001b[39mchoice(n)\n\u001b[0;32m     11\u001b[0m \u001b[38;5;28;01mfor\u001b[39;00m n \u001b[38;5;129;01min\u001b[39;00m \u001b[38;5;28mrange\u001b[39m(\u001b[38;5;241m1\u001b[39m, numbers\u001b[38;5;241m+\u001b[39m\u001b[38;5;241m1\u001b[39m):\n",
      "\u001b[1;31mTypeError\u001b[0m: can only concatenate list (not \"int\") to list"
     ]
    }
   ],
   "source": [
    "#easy method\n",
    "import random\n",
    "password=''\n",
    "\n",
    "letters=[]\n",
    "numbers=[]\n",
    "symbols=[]\n",
    "\n",
    "for n in range(1, letters+1):\n",
    "    password+=random.choice(n)\n",
    "for n in range(1, numbers+1):\n",
    "    password+=random.choice(n)\n",
    "for n in range(1, symbols+1):\n",
    "    password+=random.choice(n)"
   ]
  },
  {
   "cell_type": "code",
   "execution_count": null,
   "metadata": {},
   "outputs": [],
   "source": [
    "#hard\n",
    "password_list=[]\n",
    "\n",
    "for n in range(1, letters+1):\n",
    "    password_list= password_list.append(random.choice(n))\n",
    "for n in range(1, numbers+1):\n",
    "    password_list= password_list.append(random.choice(n))\n",
    "for n in range(1, symbols+1):\n",
    "    password_list= password_list.append(random.choice(n))\n",
    "\n"
   ]
  },
  {
   "cell_type": "code",
   "execution_count": null,
   "metadata": {},
   "outputs": [],
   "source": [
    "password_str=''\n",
    "\n",
    "for password in password_list:\n",
    "    password_str+=password\n",
    "\n",
    "print(password_str)"
   ]
  }
 ],
 "metadata": {
  "kernelspec": {
   "display_name": "Python 3",
   "language": "python",
   "name": "python3"
  },
  "language_info": {
   "codemirror_mode": {
    "name": "ipython",
    "version": 3
   },
   "file_extension": ".py",
   "mimetype": "text/x-python",
   "name": "python",
   "nbconvert_exporter": "python",
   "pygments_lexer": "ipython3",
   "version": "3.11.3"
  }
 },
 "nbformat": 4,
 "nbformat_minor": 2
}
