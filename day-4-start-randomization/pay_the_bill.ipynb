{
 "cells": [
  {
   "cell_type": "code",
   "execution_count": 22,
   "metadata": {},
   "outputs": [
    {
     "name": "stdout",
     "output_type": "stream",
     "text": [
      "['Philip', ' Idris', ' wily', ' Lydia']\n",
      " Idris is going to pay for the drinks\n"
     ]
    }
   ],
   "source": [
    "import random\n",
    "names= 'Philip, Idris, wily, Lydia'\n",
    "\n",
    "names_bill= names.split(',')\n",
    "\n",
    "print(names_bill)\n",
    "\n",
    "bill_paid_by= random.randint(0,len(names_bill)-1)\n",
    "\n",
    "person_to_pay=names_bill[bill_paid_by]\n",
    "\n",
    "print(f'{person_to_pay} is going to pay for the drinks')"
   ]
  },
  {
   "cell_type": "code",
   "execution_count": 23,
   "metadata": {},
   "outputs": [
    {
     "name": "stdout",
     "output_type": "stream",
     "text": [
      "Philip\n"
     ]
    }
   ],
   "source": [
    "person_choice=random.choice(names_bill)\n",
    "\n",
    "print(person_choice)"
   ]
  }
 ],
 "metadata": {
  "kernelspec": {
   "display_name": "Python 3",
   "language": "python",
   "name": "python3"
  },
  "language_info": {
   "codemirror_mode": {
    "name": "ipython",
    "version": 3
   },
   "file_extension": ".py",
   "mimetype": "text/x-python",
   "name": "python",
   "nbconvert_exporter": "python",
   "pygments_lexer": "ipython3",
   "version": "3.11.3"
  }
 },
 "nbformat": 4,
 "nbformat_minor": 2
}
