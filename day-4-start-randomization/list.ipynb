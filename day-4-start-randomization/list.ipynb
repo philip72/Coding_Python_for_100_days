{
 "cells": [
  {
   "cell_type": "code",
   "execution_count": 3,
   "metadata": {},
   "outputs": [
    {
     "name": "stdout",
     "output_type": "stream",
     "text": [
      "3\n",
      "['Delaware', 'New Mexico', 'Idaho', 'Texas', 'Carolina']\n"
     ]
    }
   ],
   "source": [
    "states_of_America=['Delaware', 'New Mexico']\n",
    "\n",
    "states_of_America.append('Idaho')\n",
    "\n",
    "states_of_America.extend(['Texas','Carolina'])\n",
    "print(states_of_America.index('Texas'))\n",
    "\n",
    "print(states_of_America)"
   ]
  }
 ],
 "metadata": {
  "kernelspec": {
   "display_name": "Python 3",
   "language": "python",
   "name": "python3"
  },
  "language_info": {
   "codemirror_mode": {
    "name": "ipython",
    "version": 3
   },
   "file_extension": ".py",
   "mimetype": "text/x-python",
   "name": "python",
   "nbconvert_exporter": "python",
   "pygments_lexer": "ipython3",
   "version": "3.11.3"
  }
 },
 "nbformat": 4,
 "nbformat_minor": 2
}
