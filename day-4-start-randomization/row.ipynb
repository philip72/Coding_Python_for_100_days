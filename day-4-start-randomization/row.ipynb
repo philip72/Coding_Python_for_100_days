{
 "cells": [
  {
   "cell_type": "code",
   "execution_count": 3,
   "metadata": {},
   "outputs": [
    {
     "name": "stdout",
     "output_type": "stream",
     "text": [
      "['x', 'x', 'x']\n",
      "['y', 'y', 'y']\n",
      "['z', 'z', 'z']\n",
      "y\n"
     ]
    }
   ],
   "source": [
    "row1=['x','x','x']\n",
    "row2=['y','y','y']\n",
    "row3=['z','z','z']\n",
    "\n",
    "map=[row1,row2,row3]\n",
    "\n",
    "print(f'{row1}\\n{row2}\\n{row3}')\n",
    "\n",
    "print(map[1][1])"
   ]
  },
  {
   "cell_type": "code",
   "execution_count": 8,
   "metadata": {},
   "outputs": [
    {
     "name": "stdout",
     "output_type": "stream",
     "text": [
      "['s', 'x', 'x']\n",
      "['y', 's', 'p']\n",
      "['z', 'z', 'z']\n"
     ]
    }
   ],
   "source": [
    "position=input('Where do you want to put your treasure')\n",
    "\n",
    "num1=int(position[0])\n",
    "num2=int(position[1])\n",
    "\n",
    "# selected_row=map[num2]# selecting the row ----\n",
    "# print(selected_row)\n",
    "# selected_row[num1]='s' # selecting the column from the row |||\n",
    "map[num1-1][num2-1]='p'\n",
    "\n",
    "\n",
    "\n",
    "print(f'{row1}\\n{row2}\\n{row3}')\n",
    "\n",
    "\n"
   ]
  }
 ],
 "metadata": {
  "kernelspec": {
   "display_name": "Python 3",
   "language": "python",
   "name": "python3"
  },
  "language_info": {
   "codemirror_mode": {
    "name": "ipython",
    "version": 3
   },
   "file_extension": ".py",
   "mimetype": "text/x-python",
   "name": "python",
   "nbconvert_exporter": "python",
   "pygments_lexer": "ipython3",
   "version": "3.11.3"
  }
 },
 "nbformat": 4,
 "nbformat_minor": 2
}
