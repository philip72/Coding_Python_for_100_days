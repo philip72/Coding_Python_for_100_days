{
 "cells": [
  {
   "cell_type": "code",
   "execution_count": 5,
   "metadata": {},
   "outputs": [
    {
     "name": "stdout",
     "output_type": "stream",
     "text": [
      "You gave an invlaid number\n"
     ]
    }
   ],
   "source": [
    "# Rock Paper Scissors\n",
    "\n",
    "import random\n",
    "\n",
    "game= [0,1,2]\n",
    "\n",
    "computer_choice= random.randint(0,len(game)-1)\n",
    "\n",
    "person_choice= int(input('Choose between 0 , 1 and 2'))\n",
    "if person_choice>=3:\n",
    "    print('You gave an invlaid number')\n",
    "else:\n",
    "    if computer_choice==person_choice:\n",
    "        print('You draw')\n",
    "    if computer_choice==0:\n",
    "        if person_choice==1:\n",
    "            print('You win')\n",
    "        elif person_choice==2:\n",
    "            print('you lose')\n",
    "    if computer_choice==1:\n",
    "        if person_choice==0:\n",
    "            print('You lose')\n",
    "        else:\n",
    "            print('you Win')\n",
    "    if computer_choice==2:\n",
    "        if person_choice == 0:\n",
    "            print('you win')\n",
    "        else:\n",
    "            print('you lose')\n",
    "\n",
    "    print(computer_choice)\n",
    "            "
   ]
  }
 ],
 "metadata": {
  "kernelspec": {
   "display_name": "Python 3",
   "language": "python",
   "name": "python3"
  },
  "language_info": {
   "codemirror_mode": {
    "name": "ipython",
    "version": 3
   },
   "file_extension": ".py",
   "mimetype": "text/x-python",
   "name": "python",
   "nbconvert_exporter": "python",
   "pygments_lexer": "ipython3",
   "version": "3.11.3"
  }
 },
 "nbformat": 4,
 "nbformat_minor": 2
}
