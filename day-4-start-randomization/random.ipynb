{
 "cells": [
  {
   "cell_type": "code",
   "execution_count": 4,
   "metadata": {},
   "outputs": [
    {
     "name": "stdout",
     "output_type": "stream",
     "text": [
      "8.0 0.31\n"
     ]
    }
   ],
   "source": [
    "import random\n",
    "\n",
    "random_int= random.randint(0,10)\n",
    "\n",
    "random_float= random.random()\n",
    "\n",
    "print(float(random_int), round(random_float, 2))"
   ]
  },
  {
   "cell_type": "code",
   "execution_count": 25,
   "metadata": {},
   "outputs": [
    {
     "name": "stdout",
     "output_type": "stream",
     "text": [
      "tails\n",
      "1\n"
     ]
    }
   ],
   "source": [
    "ht= random.randrange(0,2)\n",
    "if ht==0:\n",
    "    print('heads')\n",
    "else:\n",
    "    print('tails')\n",
    "print(ht)"
   ]
  }
 ],
 "metadata": {
  "kernelspec": {
   "display_name": "Python 3",
   "language": "python",
   "name": "python3"
  },
  "language_info": {
   "codemirror_mode": {
    "name": "ipython",
    "version": 3
   },
   "file_extension": ".py",
   "mimetype": "text/x-python",
   "name": "python",
   "nbconvert_exporter": "python",
   "pygments_lexer": "ipython3",
   "version": "3.11.3"
  }
 },
 "nbformat": 4,
 "nbformat_minor": 2
}
