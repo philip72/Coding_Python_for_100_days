{
 "cells": [
  {
   "cell_type": "code",
   "execution_count": 10,
   "metadata": {},
   "outputs": [
    {
     "name": "stdout",
     "output_type": "stream",
     "text": [
      "Dear [name], \n",
      " You are invited to my birthday this Saturday \n",
      " Hope you can make it!\n",
      " Philip\n"
     ]
    }
   ],
   "source": [
    "#lets try access the files from here\n",
    "\n",
    "with open('../../input/letters/starting_letter.txt', 'r') as letter:\n",
    "    print(letter.read())"
   ]
  },
  {
   "cell_type": "code",
   "execution_count": 19,
   "metadata": {},
   "outputs": [
    {
     "name": "stdout",
     "output_type": "stream",
     "text": [
      "Aang\n",
      "Zuko\n",
      "Appa\n",
      "Katara\n",
      "Sokka\n",
      "Momo\n",
      "Uncle Iroh\n",
      "Toph\n",
      "['Aang\\n', 'Zuko\\n', 'Appa\\n', 'Katara\\n', 'Sokka\\n', 'Momo\\n', 'Uncle Iroh\\n', 'Toph']\n"
     ]
    }
   ],
   "source": [
    "with open('../../input/Names/names.txt', 'r') as names:\n",
    "    lines=names.readlines()\n",
    "\n",
    "for line in lines:\n",
    "    print(line.strip())\n",
    "print(lines)"
   ]
  },
  {
   "cell_type": "code",
   "execution_count": 18,
   "metadata": {},
   "outputs": [],
   "source": [
    "# Define the placeholder for replacement\n",
    "PLACEHOLDER='[name]'\n",
    "\n",
    "# Read the starting letter content from the file\n",
    "with open('../../input/letters/starting_letter.txt') as letter:\n",
    "    letter_content= letter.read()\n",
    "    # Iterate through each name (assuming 'lines' contains the list of names)\n",
    "    for name in lines: \n",
    "        # Replace the placeholder with the current name\n",
    "        new_letter= letter_content.replace(PLACEHOLDER, name.strip())\n",
    "        # Create a new file for the completed letter\n",
    "        with open(f'./letterfor_{name.strip()}.txt', mode='w') as completed:\n",
    "            completed.write(new_letter)\n"
   ]
  }
 ],
 "metadata": {
  "kernelspec": {
   "display_name": "Python 3",
   "language": "python",
   "name": "python3"
  },
  "language_info": {
   "codemirror_mode": {
    "name": "ipython",
    "version": 3
   },
   "file_extension": ".py",
   "mimetype": "text/x-python",
   "name": "python",
   "nbconvert_exporter": "python",
   "pygments_lexer": "ipython3",
   "version": "3.11.3"
  }
 },
 "nbformat": 4,
 "nbformat_minor": 2
}
