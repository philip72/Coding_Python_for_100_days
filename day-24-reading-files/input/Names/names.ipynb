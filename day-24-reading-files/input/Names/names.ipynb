{
 "cells": [
  {
   "cell_type": "code",
   "execution_count": 1,
   "metadata": {},
   "outputs": [
    {
     "name": "stdout",
     "output_type": "stream",
     "text": [
      "Aang\n"
     ]
    }
   ],
   "source": [
    "filepath='names.txt'\n",
    "\n",
    "with open(filepath, 'w') as file:\n",
    "    file.write('Aang')\n",
    "\n",
    "with open(filepath, 'r') as file:\n",
    "    print(file.read())"
   ]
  },
  {
   "cell_type": "code",
   "execution_count": 2,
   "metadata": {},
   "outputs": [
    {
     "name": "stdout",
     "output_type": "stream",
     "text": [
      "AangZuko\n",
      "Appa\n",
      "Katara\n",
      "Sokka\n",
      "Momo\n",
      "Uncle Iroh\n",
      "Toph\n"
     ]
    }
   ],
   "source": [
    "with  open(filepath, 'a') as file:\n",
    "    file.write('\\nZuko\\nAppa\\nKatara\\nSokka\\nMomo\\nUncle Iroh\\nToph')\n",
    "\n",
    "with open(filepath, 'r') as file:\n",
    "    print(file.read())"
   ]
  }
 ],
 "metadata": {
  "kernelspec": {
   "display_name": "Python 3",
   "language": "python",
   "name": "python3"
  },
  "language_info": {
   "codemirror_mode": {
    "name": "ipython",
    "version": 3
   },
   "file_extension": ".py",
   "mimetype": "text/x-python",
   "name": "python",
   "nbconvert_exporter": "python",
   "pygments_lexer": "ipython3",
   "version": "3.11.3"
  }
 },
 "nbformat": 4,
 "nbformat_minor": 2
}
