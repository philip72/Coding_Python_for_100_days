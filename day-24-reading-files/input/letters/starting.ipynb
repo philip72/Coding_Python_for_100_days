{
 "cells": [
  {
   "cell_type": "code",
   "execution_count": 4,
   "metadata": {},
   "outputs": [
    {
     "name": "stdout",
     "output_type": "stream",
     "text": [
      "File starting_letter.txt created succesfully \n",
      "Dear [name], \n",
      " You are invited to my birthday this Saturday \n",
      " Hope you can make it!\n",
      " Philip\n"
     ]
    }
   ],
   "source": [
    "filepath= 'starting_letter.txt'\n",
    "with open(filepath, 'w') as file:\n",
    "    file.write('Dear [name], \\n You are invited to my birthday this Saturday \\n Hope you can make it!\\n Philip')\n",
    "\n",
    "print(f'File {filepath} created succesfully ')\n",
    "\n",
    "with open('starting_letter.txt', mode= 'r' ) as file:\n",
    "    ja=file.read()\n",
    "    print(ja)\n"
   ]
  }
 ],
 "metadata": {
  "kernelspec": {
   "display_name": "Python 3",
   "language": "python",
   "name": "python3"
  },
  "language_info": {
   "codemirror_mode": {
    "name": "ipython",
    "version": 3
   },
   "file_extension": ".py",
   "mimetype": "text/x-python",
   "name": "python",
   "nbconvert_exporter": "python",
   "pygments_lexer": "ipython3",
   "version": "3.11.3"
  }
 },
 "nbformat": 4,
 "nbformat_minor": 2
}
