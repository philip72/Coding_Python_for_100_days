{
 "cells": [
  {
   "cell_type": "code",
   "execution_count": null,
   "metadata": {},
   "outputs": [],
   "source": [
    "#understand inheritance slicing \n",
    "\n",
    "\n"
   ]
  },
  {
   "cell_type": "markdown",
   "metadata": {},
   "source": [
    "1:  Create the screen \n",
    "2:  Create and move the paddle\n",
    "3:  Create another paddle\n",
    "4:  Create the ball and make it move\n",
    "5: Detect collision with  wall and bounce\n",
    "6: Detect collision with paddle\n",
    "7: Detect when the paddle misses the ball\n",
    "8: keep score"
   ]
  },
  {
   "cell_type": "code",
   "execution_count": null,
   "metadata": {},
   "outputs": [],
   "source": [
    "from turtle import Turtle\n",
    "\n",
    "class Paddle(Turtle):\n",
    "    def __init__(self, position):\n",
    "        super().__init__()\n",
    "        new_paddle = Turtle('square')\n",
    "        new_paddle.color('white')\n",
    "        new_paddle.penup()\n",
    "        new_paddle.shapesize(stretch_wid=5, stretch_len=1)\n",
    "        new_paddle.goto(position)\n",
    "\n",
    "    def go_up(self):\n",
    "        new_y = self.ycor() + 20\n",
    "        self.goto(self.xcor(), new_y)\n",
    "\n",
    "    def go_down(self):\n",
    "        new_y = self.ycor() - 20\n",
    "        self.goto(self.xcor(), new_y)\n",
    "\n"
   ]
  }
 ],
 "metadata": {
  "language_info": {
   "name": "python"
  }
 },
 "nbformat": 4,
 "nbformat_minor": 2
}
