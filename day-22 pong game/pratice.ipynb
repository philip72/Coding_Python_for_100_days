{
 "cells": [
  {
   "cell_type": "code",
   "execution_count": null,
   "metadata": {},
   "outputs": [],
   "source": [
    "#understand inheritance slicing \n",
    "\n",
    "\n"
   ]
  },
  {
   "cell_type": "markdown",
   "metadata": {},
   "source": [
    "1:  Create the screen \n",
    "2:  Create and move the paddle\n",
    "3:  Create another paddle\n",
    "4:  Create the ball and make it move\n",
    "5: Detect collision with  wall and bounce\n",
    "6: Detect collision with paddle\n",
    "7: Detect when the paddle misses the ball\n",
    "8: keep score"
   ]
  }
 ],
 "metadata": {
  "language_info": {
   "name": "python"
  }
 },
 "nbformat": 4,
 "nbformat_minor": 2
}
