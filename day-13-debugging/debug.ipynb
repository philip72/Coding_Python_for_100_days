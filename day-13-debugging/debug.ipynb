{
 "cells": [
  {
   "cell_type": "code",
   "execution_count": 8,
   "metadata": {},
   "outputs": [
    {
     "ename": "IndexError",
     "evalue": "list index out of range",
     "output_type": "error",
     "traceback": [
      "\u001b[1;31m---------------------------------------------------------------------------\u001b[0m",
      "\u001b[1;31mIndexError\u001b[0m                                Traceback (most recent call last)",
      "Cell \u001b[1;32mIn[8], line 19\u001b[0m\n\u001b[0;32m     16\u001b[0m dice\u001b[38;5;241m=\u001b[39m[\u001b[38;5;124m\"\u001b[39m\u001b[38;5;124mu\u001b[39m\u001b[38;5;124m\"\u001b[39m, \u001b[38;5;124m\"\u001b[39m\u001b[38;5;124mi\u001b[39m\u001b[38;5;124m\"\u001b[39m, \u001b[38;5;124m\"\u001b[39m\u001b[38;5;124mg\u001b[39m\u001b[38;5;124m\"\u001b[39m, \u001b[38;5;124m\"\u001b[39m\u001b[38;5;124mk\u001b[39m\u001b[38;5;124m\"\u001b[39m, \u001b[38;5;124m\"\u001b[39m\u001b[38;5;124ml\u001b[39m\u001b[38;5;124m\"\u001b[39m, \u001b[38;5;124m\"\u001b[39m\u001b[38;5;124mp\u001b[39m\u001b[38;5;124m\"\u001b[39m]\n\u001b[0;32m     18\u001b[0m num\u001b[38;5;241m=\u001b[39m randint(\u001b[38;5;241m1\u001b[39m,\u001b[38;5;241m9\u001b[39m)\n\u001b[1;32m---> 19\u001b[0m \u001b[38;5;28mprint\u001b[39m(\u001b[43mdice\u001b[49m\u001b[43m[\u001b[49m\u001b[43mnum\u001b[49m\u001b[43m]\u001b[49m)\n",
      "\u001b[1;31mIndexError\u001b[0m: list index out of range"
     ]
    }
   ],
   "source": [
    "\"\"\"\n",
    "1 Describe the problem\n",
    "\"\"\"\n",
    "# def myfunction():\n",
    "#     for i in range(1, 20): #change to range(1, 21)\n",
    "#         if i ==20:\n",
    "#             print('Print you got it')\n",
    "\n",
    "# myfunction()\n",
    "\n",
    "\"\"\"\n",
    "2 Reproduce the bug\n",
    "\"\"\"\n",
    "from random import randint\n",
    "\n",
    "dice=[\"u\", \"i\", \"g\", \"k\", \"l\", \"p\"]\n",
    "\n",
    "num= randint(1,6)# when is top six num=6 # num=randint(0,5)\n",
    "print(dice[num])\n",
    "\n",
    "\"\"\"\n",
    "Fix the errors using the environment \n",
    "\"\"\"\n",
    "\n",
    "\"\"\"\n",
    "Use print\n",
    "\"\"\"\n",
    "\n",
    "\"\"\"\n",
    "use debug method\n",
    "\"\"\"\n",
    "\n",
    "year = input('write the year')#  the input requires int like type error\n",
    "\n",
    "if year%4==0:\n",
    "    if year % 100==0:\n",
    "        if year % 400==0:\n",
    "            print('Its a leap year')\n",
    "        else:\n",
    "            print('Not a leap year')\n",
    "    else:\n",
    "        print('Not a leap year')\n",
    "else:\n",
    "    print('Not a leap year')"
   ]
  }
 ],
 "metadata": {
  "kernelspec": {
   "display_name": "Python 3",
   "language": "python",
   "name": "python3"
  },
  "language_info": {
   "codemirror_mode": {
    "name": "ipython",
    "version": 3
   },
   "file_extension": ".py",
   "mimetype": "text/x-python",
   "name": "python",
   "nbconvert_exporter": "python",
   "pygments_lexer": "ipython3",
   "version": "3.11.3"
  }
 },
 "nbformat": 4,
 "nbformat_minor": 2
}
