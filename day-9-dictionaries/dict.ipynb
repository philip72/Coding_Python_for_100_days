{
 "cells": [
  {
   "cell_type": "code",
   "execution_count": 6,
   "metadata": {},
   "outputs": [
    {
     "name": "stdout",
     "output_type": "stream",
     "text": [
      "An error in a program\n",
      "{'Bug': 'An error in a program', 'Loop': 'The action'}\n",
      "dict_items([('Bug', 'An error in a program'), ('Loop', 'The action')])\n"
     ]
    }
   ],
   "source": [
    "# dictionaries\n",
    "\n",
    "program_dict={\n",
    "    \"Bug\": \"An error in a program\"\n",
    "}\n",
    "# retrieving\n",
    "print(program_dict['Bug'])\n",
    "\n",
    "#key error retrieving sth that doesnt exist\n",
    "\n",
    "#adding\n",
    "\n",
    "program_dict[\"Loop\"]= 'The action'\n",
    "\n",
    "print(program_dict)\n",
    "\n",
    "#creating\n",
    "\n",
    "empty_dict={}\n",
    "\n",
    "#wipe erase\n",
    "\n",
    "print(program_dict.items())\n",
    "\n",
    "#Loop\n",
    "# for key in program_dict:\n",
    "#     print(key)#print key\n",
    "#     print(program_dict[key])#print value"
   ]
  },
  {
   "cell_type": "code",
   "execution_count": null,
   "metadata": {},
   "outputs": [],
   "source": [
    "travel_log={\n",
    "    'France': {\n",
    "        'Cities Visited': ['Paris', 'Lillie'],\n",
    "        'total visits': 12\n",
    "    }\n",
    "}\n",
    "travel_log_list=[\n",
    "    {\n",
    "        'Country': 'France',\n",
    "        'Cities': ['Paris', 'Dijon']\n",
    "    }\n",
    "    ,\n",
    "    {\n",
    "        'Country': 'France',\n",
    "        'Cities': ['Berlin', 'Hamburg']\n",
    "    }\n",
    "]\n",
    "\n",
    "def add_country(Country, cities):\n",
    "    new_country=[]\n",
    "    new_country['Country']=Country\n",
    "    new_country['Cities']=cities\n",
    "    travel_log.append(new_country)"
   ]
  }
 ],
 "metadata": {
  "kernelspec": {
   "display_name": "Python 3",
   "language": "python",
   "name": "python3"
  },
  "language_info": {
   "codemirror_mode": {
    "name": "ipython",
    "version": 3
   },
   "file_extension": ".py",
   "mimetype": "text/x-python",
   "name": "python",
   "nbconvert_exporter": "python",
   "pygments_lexer": "ipython3",
   "version": "3.11.3"
  }
 },
 "nbformat": 4,
 "nbformat_minor": 2
}
