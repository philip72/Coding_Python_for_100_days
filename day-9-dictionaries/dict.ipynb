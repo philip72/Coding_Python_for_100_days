{
 "cells": [
  {
   "cell_type": "code",
   "execution_count": 6,
   "metadata": {},
   "outputs": [
    {
     "name": "stdout",
     "output_type": "stream",
     "text": [
      "An error in a program\n",
      "{'Bug': 'An error in a program', 'Loop': 'The action'}\n",
      "dict_items([('Bug', 'An error in a program'), ('Loop', 'The action')])\n"
     ]
    }
   ],
   "source": [
    "# dictionaries\n",
    "\n",
    "program_dict={\n",
    "    \"Bug\": \"An error in a program\"\n",
    "}\n",
    "# retrieving\n",
    "print(program_dict['Bug'])\n",
    "\n",
    "#key error retrieving sth that doesnt exist\n",
    "\n",
    "#adding\n",
    "\n",
    "program_dict[\"Loop\"]= 'The action'\n",
    "\n",
    "print(program_dict)\n",
    "\n",
    "#creating\n",
    "\n",
    "empty_dict={}\n",
    "\n",
    "#wipe erase\n",
    "\n",
    "print(program_dict.items())\n",
    "\n",
    "#Loop\n",
    "# for key in program_dict:\n",
    "#     print(key)#print key\n",
    "#     print(program_dict[key])#print value"
   ]
  }
 ],
 "metadata": {
  "kernelspec": {
   "display_name": "Python 3",
   "language": "python",
   "name": "python3"
  },
  "language_info": {
   "codemirror_mode": {
    "name": "ipython",
    "version": 3
   },
   "file_extension": ".py",
   "mimetype": "text/x-python",
   "name": "python",
   "nbconvert_exporter": "python",
   "pygments_lexer": "ipython3",
   "version": "3.11.3"
  }
 },
 "nbformat": 4,
 "nbformat_minor": 2
}
