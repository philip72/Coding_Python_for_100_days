{
 "cells": [
  {
   "cell_type": "code",
   "execution_count": 2,
   "metadata": {},
   "outputs": [
    {
     "name": "stdout",
     "output_type": "stream",
     "text": [
      "{'Harry': 'Exceeds expectation', 'Ron': 'Acceptable', 'Hermoine': 'Outstanding', 'Draco': 'Acceptable', 'Neville': 'fail'}\n"
     ]
    }
   ],
   "source": [
    "student_scores={\n",
    "    'Harry': 81,\n",
    "    'Ron': 78,\n",
    "    'Hermoine': 99,\n",
    "    'Draco':74,\n",
    "    'Neville':62\n",
    "}\n",
    "student_grades ={}\n",
    "\n",
    "for key in student_scores:\n",
    "    score= student_scores[key]\n",
    "\n",
    "    if score>90:\n",
    "        student_grades[key]='Outstanding'\n",
    "    elif score>80:\n",
    "        student_grades[key]= 'Exceeds expectation'\n",
    "    elif score >70:\n",
    "        student_grades[key]= 'Acceptable'\n",
    "    else:\n",
    "        student_grades[key]= 'fail'\n",
    "print(student_grades)\n",
    "    \n"
   ]
  },
  {
   "cell_type": "code",
   "execution_count": 3,
   "metadata": {},
   "outputs": [
    {
     "name": "stdout",
     "output_type": "stream",
     "text": [
      "Student Grades:\n",
      "{'Harry': 'Exceeds expectation', 'Ron': 'Acceptable', 'Hermoine': 'Outstanding', 'Draco': 'Acceptable', 'Neville': 'Fail'}\n"
     ]
    }
   ],
   "source": [
    "def calculate_grade(score):\n",
    "    if score > 90:\n",
    "        return 'Outstanding'\n",
    "    elif score > 80:\n",
    "        return 'Exceeds expectation'\n",
    "    elif score > 70:\n",
    "        return 'Acceptable'\n",
    "    else:\n",
    "        return 'Fail'\n",
    "\n",
    "\n",
    "def assign_grades(scores):\n",
    "    grades = {}\n",
    "    for student, score in scores.items():# The items() method returns a view object. The view object contains the key-value pairs of the dictionary, as tuples in a list.\n",
    "        grades[student] = calculate_grade(score)\n",
    "    return grades\n",
    "\n",
    "\n",
    "def main():\n",
    "    student_scores = {\n",
    "        'Harry': 81,\n",
    "        'Ron': 78,\n",
    "        'Hermoine': 99,\n",
    "        'Draco': 74,\n",
    "        'Neville': 62\n",
    "    }\n",
    "\n",
    "    student_grades = assign_grades(student_scores)\n",
    "\n",
    "    print(\"Student Grades:\")\n",
    "    print(student_grades)\n",
    "\n",
    "\n",
    "if __name__ == \"__main__\":\n",
    "    main()\n"
   ]
  }
 ],
 "metadata": {
  "kernelspec": {
   "display_name": "Python 3",
   "language": "python",
   "name": "python3"
  },
  "language_info": {
   "codemirror_mode": {
    "name": "ipython",
    "version": 3
   },
   "file_extension": ".py",
   "mimetype": "text/x-python",
   "name": "python",
   "nbconvert_exporter": "python",
   "pygments_lexer": "ipython3",
   "version": "3.11.3"
  }
 },
 "nbformat": 4,
 "nbformat_minor": 2
}
