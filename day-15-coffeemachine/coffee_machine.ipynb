{
 "cells": [
  {
   "cell_type": "code",
   "execution_count": 3,
   "metadata": {},
   "outputs": [
    {
     "name": "stdout",
     "output_type": "stream",
     "text": [
      "{'water': 300, 'milk': 200, 'coffee': 100}\n"
     ]
    }
   ],
   "source": [
    "# Prompt user by asking  \" what would you like? (espresso/latte/capuccino)\"\n",
    "\"\"\"\n",
    "check the user's input  to decide what to do next\n",
    "the prompt should show every time action has completed eg once the drink is dispensed . the propmt should show again to serve the next customer\n",
    "\"\"\"\n",
    "\n",
    "import menu\n",
    "\n",
    "print(menu.resources)"
   ]
  },
  {
   "cell_type": "code",
   "execution_count": 4,
   "metadata": {},
   "outputs": [],
   "source": [
    "user_input=  input('what would you like? (espresso/latte/capuccino) ').lower()\n",
    "\n",
    "menu_served=menu.MENU\n",
    "# print(user_input)\n",
    "# for key, value in menu_served.items():\n",
    "#     if user_input in menu_served:\n",
    "#         print(menu_served[key])\n",
    "# result= {}\n",
    "\n",
    "# if user_input in menu_served:\n",
    "#     result= menu_served.get(user_input, f'{user_input} not found')\n",
    "# # print(result['ingredients'])\n",
    "# ingredients={}\n",
    "# for key in result:\n",
    "#     ingredients[key]= result[key]\n",
    "#     break\n",
    "# print(f'these ingredients {ingredients[\"ingredients\"]}')\n",
    "# if 'water' in ingredients['ingredients']:\n",
    "#     print(ingredients['ingredients']['water'])\n",
    "# for key, value in result.items():\n",
    "#     print(f'These are the {key}\\n {result[key]}')\n",
    "\n"
   ]
  },
  {
   "cell_type": "code",
   "execution_count": 7,
   "metadata": {},
   "outputs": [
    {
     "data": {
      "text/plain": [
       "' \\n\\n4. Check resources suffcient \\n\\nwhen a user chooses drink the program should check if there are enough resources\\n\\n'"
      ]
     },
     "execution_count": 7,
     "metadata": {},
     "output_type": "execute_result"
    }
   ],
   "source": [
    "# result= {}\n",
    "# ingredients={}\n",
    "# if user_input in menu_served:\n",
    "#     result= menu_served.get(user_input, f'{user_input} not found')\n",
    "#     if result==f'{user_input} not found':\n",
    "#         print('the request is invalid')\n",
    "#     else:\n",
    "#         for key in result: \n",
    "#             ingredients[key]=result[key]\n",
    "#             break\n",
    "#         if 'water' in ingredients['ingredients']:\n",
    "#             print(f'water {ingredients[\"ingredients\"][\"water\"]}')\n",
    "#         if 'milk' in ingredients['ingredients']:\n",
    "#             print(f'Milk {ingredients[\"ingredients\"][\"milk\"]}')\n",
    "#         if 'coffee' in ingredients['ingredients']:\n",
    "#             print(f'coffee {ingredients[\"ingredients\"][\"coffee\"]}')\n",
    "\"\"\" \n",
    "5. Do you wish to continue or like turn off\n",
    "\n",
    "\"\"\"\n",
    "coffee_machine_on= True\n",
    "user_input=  input('What do you wish to do \\n Turn off the coffee machine \\n order what would you like? (espresso/latte/capuccino) \\n  ').lower()\n",
    "def users(user_input):\n",
    "    if user_input=='off':\n",
    "        global coffee_machine_on\n",
    "        print('Machine turning off')\n",
    "        coffee_machine_on=False\n",
    "    elif user_input== 'order':\n",
    "        user_input= input('order what would you like? (espresso/latte/capuccino)')\n",
    "        enough= True\n",
    "        while enough:\n",
    "            result={}\n",
    "            ingredients={}\n",
    "            if user_input in menu_served:\n",
    "                result= menu_served.get(user_input, f'{user_input} not found')\n",
    "                if result==f'{user_input} not found':\n",
    "                    print('the request is invalid')\n",
    "                else:\n",
    "                    for key in result:\n",
    "                        ingredients[key]=result[key]\n",
    "                        break\n",
    "                    user_water=ingredients[\"ingredients\"][\"water\"]\n",
    "                    user_milk=ingredients[\"ingredients\"][\"milk\"]\n",
    "                    user_coffee=ingredients[\"ingredients\"][\"coffee\"]\n",
    "                \n",
    "\n",
    "    \n",
    "users(user_input)\n",
    "\n",
    "\"\"\" \n",
    "\n",
    "4. Check resources suffcient \n",
    "\n",
    "when a user chooses drink the program should check if there are enough resources\n",
    "\n",
    "\"\"\" \n",
    "\n",
    "# enough=True\n",
    "# new_amount_water={}\n",
    "# def user_request(user_input, resources):\n",
    "#     global enough\n",
    "#     while  enough:\n",
    "#         result={}\n",
    "#         ingredients={}\n",
    "       \n",
    "#         if user_input in menu_served:\n",
    "#             result= menu_served.get(user_input, f'{user_input} not found')\n",
    "#             if result==f'{user_input} not found':\n",
    "#                 print('the request is invalid')\n",
    "#             else:\n",
    "#                 for key in result: \n",
    "#                     ingredients[key]=result[key]\n",
    "#                     break\n",
    "                # user_water=ingredients[\"ingredients\"][\"water\"]\n",
    "                # print(user_water)\n",
    "                # user_milk=ingredients[\"ingredients\"][\"milk\"]\n",
    "                # user_coffee=ingredients[\"ingredients\"][\"coffee\"]\n",
    "                \n",
    "#                 if 'water' in ingredients['ingredients']:\n",
    "#                     if resources['water']< user_water:\n",
    "#                         print(' the water is in low quantity')\n",
    "#                         enough=False\n",
    "#                     else: \n",
    "#                         global new_amount_water\n",
    "#                         new_amount_water= resources['water']- user_water\n",
    "#                         print(f'There is enough water {new_amount_water}')\n",
    "#                         enough=False\n",
    "# user_request(user_input, menu.resources)                                \n"
   ]
  },
  {
   "cell_type": "code",
   "execution_count": null,
   "metadata": {},
   "outputs": [],
   "source": [
    "already_served=False\n",
    "\"\"\" \n",
    "2 Turn off the coffee Machine by entering ' off' to the prompt\n",
    "\n",
    "\"\"\"\n",
    "\n",
    "coffee_machine_on= True\n",
    "\n",
    "def use_CM():\n",
    "    global coffee_machine_on\n",
    "    while coffee_machine_on:\n",
    "        user_input= input('do you wish to get coffee or turn off the machine? ')\n",
    "\n",
    "        if user_input=='off':\n",
    "            print('Machine turning off')\n",
    "            coffee_machine_on=False\n",
    "\n",
    "            \n"
   ]
  },
  {
   "cell_type": "code",
   "execution_count": 5,
   "metadata": {},
   "outputs": [
    {
     "name": "stdout",
     "output_type": "stream",
     "text": [
      "{'water': 300, 'milk': 200, 'coffee': 100}\n",
      "The remaining resources are \n",
      "Water: 300\n",
      "Milk: 200\n",
      "Coffee: 100\n"
     ]
    }
   ],
   "source": [
    "\"\"\" \n",
    "3 print report: when user types rport to the prompt areport should  be generated that shows the current resorce report\n",
    " \"\"\"\n",
    "coffee_machine_report=menu.resources\n",
    "\n",
    "print(coffee_machine_report)\n",
    "\n",
    "water_report=''\n",
    "milk_report=''\n",
    "coffee_report=''\n",
    "\n",
    "user_report_input= input('Type report')\n",
    "\n",
    "def report(user_report_input):\n",
    "    if user_report_input == 'report':\n",
    "        if 'water' in coffee_machine_report:\n",
    "            water_report=coffee_machine_report['water']\n",
    "        if 'milk' in coffee_machine_report:\n",
    "            milk_report=coffee_machine_report['milk']\n",
    "        if 'coffee' in coffee_machine_report:\n",
    "            coffee_report= coffee_machine_report['coffee']\n",
    "\n",
    "        print(f'The remaining resources are \\nWater: {water_report}\\nMilk: {milk_report}\\nCoffee: {coffee_report}')\n",
    "\n",
    "report(user_report_input)"
   ]
  }
 ],
 "metadata": {
  "kernelspec": {
   "display_name": "Python 3",
   "language": "python",
   "name": "python3"
  },
  "language_info": {
   "codemirror_mode": {
    "name": "ipython",
    "version": 3
   },
   "file_extension": ".py",
   "mimetype": "text/x-python",
   "name": "python",
   "nbconvert_exporter": "python",
   "pygments_lexer": "ipython3",
   "version": "3.10.13"
  }
 },
 "nbformat": 4,
 "nbformat_minor": 2
}
