{
 "cells": [
  {
   "cell_type": "code",
   "execution_count": 2,
   "metadata": {},
   "outputs": [
    {
     "name": "stdout",
     "output_type": "stream",
     "text": [
      "{'water': 300, 'milk': 200, 'coffee': 100}\n"
     ]
    }
   ],
   "source": [
    "# Prompt user by asking  \" what would you like? (espresso/latte/capuccino)\"\n",
    "\"\"\"\n",
    "check the user's input  to decide what to do next\n",
    "the prompt should show every time action has completed eg once the drink is dispensed . the propmt should show again to serve the next customer\n",
    "\"\"\"\n",
    "\n",
    "import menu\n",
    "\n",
    "print(menu.resources)"
   ]
  },
  {
   "cell_type": "code",
   "execution_count": 26,
   "metadata": {},
   "outputs": [
    {
     "name": "stdout",
     "output_type": "stream",
     "text": [
      "these ingredients {'water': 200, 'milk': 150, 'coffee': 24}\n",
      "200\n",
      "These are the ingredients\n",
      " {'water': 200, 'milk': 150, 'coffee': 24}\n",
      "These are the cost\n",
      " 2.5\n"
     ]
    }
   ],
   "source": [
    "user_input=  input('what would you like? (espresso/latte/capuccino) ').lower()\n",
    "\n",
    "menu_served=menu.MENU\n",
    "# print(user_input)\n",
    "# for key, value in menu_served.items():\n",
    "#     if user_input in menu_served:\n",
    "#         print(menu_served[key])\n",
    "# result= {}\n",
    "\n",
    "# if user_input in menu_served:\n",
    "#     result= menu_served.get(user_input, f'{user_input} not found')\n",
    "# # print(result['ingredients'])\n",
    "# ingredients={}\n",
    "# for key in result:\n",
    "#     ingredients[key]= result[key]\n",
    "#     break\n",
    "# print(f'these ingredients {ingredients[\"ingredients\"]}')\n",
    "# if 'water' in ingredients['ingredients']:\n",
    "#     print(ingredients['ingredients']['water'])\n",
    "# for key, value in result.items():\n",
    "#     print(f'These are the {key}\\n {result[key]}')\n",
    "    \n"
   ]
  },
  {
   "cell_type": "code",
   "execution_count": 28,
   "metadata": {},
   "outputs": [
    {
     "name": "stdout",
     "output_type": "stream",
     "text": [
      "water 200\n",
      "Milk 150\n",
      "coffee 24\n"
     ]
    }
   ],
   "source": [
    "result= {}\n",
    "ingredients={}\n",
    "if user_input in menu_served:\n",
    "    result= menu_served.get(user_input, f'{user_input} not found')\n",
    "    if result==f'{user_input} not found':\n",
    "        print('the request is invalid')\n",
    "    else:\n",
    "        for key in result: \n",
    "            ingredients[key]=result[key]\n",
    "            break\n",
    "        if 'water' in ingredients['ingredients']:\n",
    "            print(f'water {ingredients[\"ingredients\"][\"water\"]}')\n",
    "        if 'milk' in ingredients['ingredients']:\n",
    "            print(f'Milk {ingredients[\"ingredients\"][\"milk\"]}')\n",
    "        if 'coffee' in ingredients['ingredients']:\n",
    "            print(f'coffee {ingredients[\"ingredients\"][\"coffee\"]}')\n",
    "\n",
    "\n",
    "        \n",
    "        \n"
   ]
  },
  {
   "cell_type": "code",
   "execution_count": null,
   "metadata": {},
   "outputs": [],
   "source": [
    "already_served=False"
   ]
  }
 ],
 "metadata": {
  "kernelspec": {
   "display_name": "Python 3",
   "language": "python",
   "name": "python3"
  },
  "language_info": {
   "codemirror_mode": {
    "name": "ipython",
    "version": 3
   },
   "file_extension": ".py",
   "mimetype": "text/x-python",
   "name": "python",
   "nbconvert_exporter": "python",
   "pygments_lexer": "ipython3",
   "version": "3.10.13"
  }
 },
 "nbformat": 4,
 "nbformat_minor": 2
}
