{
 "cells": [
  {
   "cell_type": "code",
   "execution_count": 2,
   "metadata": {},
   "outputs": [
    {
     "name": "stdout",
     "output_type": "stream",
     "text": [
      "{'water': 300, 'milk': 200, 'coffee': 100}\n"
     ]
    }
   ],
   "source": [
    "# Prompt user by asking  \" what would you like? (espresso/latte/capuccino)\"\n",
    "\"\"\"\n",
    "check the user's input  to decide what to do next\n",
    "the prompt should show every time action has completed eg once the drink is dispensed . the propmt should show again to serve the next customer\n",
    "\"\"\"\n",
    "\n",
    "import menu\n",
    "\n",
    "print(menu.resources)"
   ]
  },
  {
   "cell_type": "code",
   "execution_count": 11,
   "metadata": {},
   "outputs": [],
   "source": [
    "user_input=  input('what would you like? (espresso/latte/capuccino) ').lower()\n",
    "\n",
    "menu_served=menu.MENU\n",
    "# print(user_input)\n",
    "# for key, value in menu_served.items():\n",
    "#     if user_input in menu_served:\n",
    "#         print(menu_served[key])\n",
    "# result= {}\n",
    "\n",
    "# if user_input in menu_served:\n",
    "#     result= menu_served.get(user_input, f'{user_input} not found')\n",
    "# # print(result['ingredients'])\n",
    "# ingredients={}\n",
    "# for key in result:\n",
    "#     ingredients[key]= result[key]\n",
    "#     break\n",
    "# print(f'these ingredients {ingredients[\"ingredients\"]}')\n",
    "# if 'water' in ingredients['ingredients']:\n",
    "#     print(ingredients['ingredients']['water'])\n",
    "# for key, value in result.items():\n",
    "#     print(f'These are the {key}\\n {result[key]}')\n",
    "\n"
   ]
  },
  {
   "cell_type": "code",
   "execution_count": 14,
   "metadata": {},
   "outputs": [
    {
     "ename": "KeyboardInterrupt",
     "evalue": "",
     "output_type": "error",
     "traceback": [
      "\u001b[0;31m---------------------------------------------------------------------------\u001b[0m",
      "\u001b[0;31mKeyboardInterrupt\u001b[0m                         Traceback (most recent call last)",
      "Cell \u001b[0;32mIn[14], line 49\u001b[0m\n\u001b[1;32m     47\u001b[0m                         \u001b[38;5;28mprint\u001b[39m(\u001b[38;5;124m'\u001b[39m\u001b[38;5;124m the water is in low quantity\u001b[39m\u001b[38;5;124m'\u001b[39m)\n\u001b[1;32m     48\u001b[0m                         enough\u001b[38;5;241m=\u001b[39m\u001b[38;5;28;01mFalse\u001b[39;00m\n\u001b[0;32m---> 49\u001b[0m \u001b[43muser_request\u001b[49m\u001b[43m(\u001b[49m\u001b[43muser_input\u001b[49m\u001b[43m,\u001b[49m\u001b[43m \u001b[49m\u001b[43mmenu\u001b[49m\u001b[38;5;241;43m.\u001b[39;49m\u001b[43mresources\u001b[49m\u001b[43m)\u001b[49m                                \n",
      "Cell \u001b[0;32mIn[14], line 34\u001b[0m, in \u001b[0;36muser_request\u001b[0;34m(user_input, resources)\u001b[0m\n\u001b[1;32m     31\u001b[0m ingredients\u001b[38;5;241m=\u001b[39m{}\n\u001b[1;32m     33\u001b[0m \u001b[38;5;28;01mif\u001b[39;00m user_input \u001b[38;5;129;01min\u001b[39;00m menu_served:\n\u001b[0;32m---> 34\u001b[0m     result\u001b[38;5;241m=\u001b[39m \u001b[43mmenu_served\u001b[49m\u001b[38;5;241;43m.\u001b[39;49m\u001b[43mget\u001b[49m\u001b[43m(\u001b[49m\u001b[43muser_input\u001b[49m\u001b[43m,\u001b[49m\u001b[43m \u001b[49m\u001b[38;5;124;43mf\u001b[39;49m\u001b[38;5;124;43m'\u001b[39;49m\u001b[38;5;132;43;01m{\u001b[39;49;00m\u001b[43muser_input\u001b[49m\u001b[38;5;132;43;01m}\u001b[39;49;00m\u001b[38;5;124;43m not found\u001b[39;49m\u001b[38;5;124;43m'\u001b[39;49m\u001b[43m)\u001b[49m\n\u001b[1;32m     35\u001b[0m     \u001b[38;5;28;01mif\u001b[39;00m result\u001b[38;5;241m==\u001b[39m\u001b[38;5;124mf\u001b[39m\u001b[38;5;124m'\u001b[39m\u001b[38;5;132;01m{\u001b[39;00muser_input\u001b[38;5;132;01m}\u001b[39;00m\u001b[38;5;124m not found\u001b[39m\u001b[38;5;124m'\u001b[39m:\n\u001b[1;32m     36\u001b[0m         \u001b[38;5;28mprint\u001b[39m(\u001b[38;5;124m'\u001b[39m\u001b[38;5;124mthe request is invalid\u001b[39m\u001b[38;5;124m'\u001b[39m)\n",
      "\u001b[0;31mKeyboardInterrupt\u001b[0m: "
     ]
    }
   ],
   "source": [
    "# result= {}\n",
    "# ingredients={}\n",
    "# if user_input in menu_served:\n",
    "#     result= menu_served.get(user_input, f'{user_input} not found')\n",
    "#     if result==f'{user_input} not found':\n",
    "#         print('the request is invalid')\n",
    "#     else:\n",
    "#         for key in result: \n",
    "#             ingredients[key]=result[key]\n",
    "#             break\n",
    "#         if 'water' in ingredients['ingredients']:\n",
    "#             print(f'water {ingredients[\"ingredients\"][\"water\"]}')\n",
    "#         if 'milk' in ingredients['ingredients']:\n",
    "#             print(f'Milk {ingredients[\"ingredients\"][\"milk\"]}')\n",
    "#         if 'coffee' in ingredients['ingredients']:\n",
    "#             print(f'coffee {ingredients[\"ingredients\"][\"coffee\"]}')\n",
    "\n",
    "\n",
    "\"\"\" \n",
    "4. Check resources suffcient \n",
    "\n",
    "when a user chooses drink the program should check if there are enough resources\n",
    "\n",
    "\"\"\" \n",
    "user_input=  input('what would you like? (espresso/latte/capuccino) ').lower()\n",
    "enough=True\n",
    "def user_request(user_input, resources):\n",
    "    global enough\n",
    "    while  enough:\n",
    "        result={}\n",
    "        ingredients={}\n",
    "       \n",
    "        if user_input in menu_served:\n",
    "            result= menu_served.get(user_input, f'{user_input} not found')\n",
    "            if result==f'{user_input} not found':\n",
    "                print('the request is invalid')\n",
    "            else:\n",
    "                for key in result: \n",
    "                    ingredients[key]=result[key]\n",
    "                    break\n",
    "                user_water=ingredients[\"ingredients\"][\"water\"]\n",
    "                user_milk=ingredients[\"ingredients\"][\"milk\"]\n",
    "                user_coffee=ingredients[\"ingredients\"][\"coffee\"]\n",
    "                \n",
    "                if 'water' in ingredients['ingredients']:\n",
    "                    if resources['water']< user_water:\n",
    "                        print(' the water is in low quantity')\n",
    "                        enough=False\n",
    "user_request(user_input, menu.resources)                                \n"
   ]
  },
  {
   "cell_type": "code",
   "execution_count": null,
   "metadata": {},
   "outputs": [],
   "source": [
    "already_served=False\n",
    "\"\"\" \n",
    "2 Turn off the coffee Machine by entering ' off' to the prompt\n",
    "\n",
    "\"\"\"\n",
    "\n",
    "coffee_machine_on= True\n",
    "\n",
    "def use_CM():\n",
    "    global coffee_machine_on\n",
    "    while coffee_machine_on:\n",
    "        user_input= input('do you wish to get coffee or turn off the machine? ')\n",
    "\n",
    "        if user_input=='off':\n",
    "            print('Machine turning off')\n",
    "            coffee_machine_on=False\n",
    "\n",
    "            \n"
   ]
  },
  {
   "cell_type": "code",
   "execution_count": 5,
   "metadata": {},
   "outputs": [
    {
     "name": "stdout",
     "output_type": "stream",
     "text": [
      "{'water': 300, 'milk': 200, 'coffee': 100}\n",
      "The remaining resources are \n",
      "Water: 300\n",
      "Milk: 200\n",
      "Coffee: 100\n"
     ]
    }
   ],
   "source": [
    "\"\"\" \n",
    "3 print report: when user types rport to the prompt areport should  be generated that shows the current resorce report\n",
    " \"\"\"\n",
    "coffee_machine_report=menu.resources\n",
    "\n",
    "print(coffee_machine_report)\n",
    "\n",
    "water_report=''\n",
    "milk_report=''\n",
    "coffee_report=''\n",
    "\n",
    "user_report_input= input('Type report')\n",
    "\n",
    "def report(user_report_input):\n",
    "    if user_report_input == 'report':\n",
    "        if 'water' in coffee_machine_report:\n",
    "            water_report=coffee_machine_report['water']\n",
    "        if 'milk' in coffee_machine_report:\n",
    "            milk_report=coffee_machine_report['milk']\n",
    "        if 'coffee' in coffee_machine_report:\n",
    "            coffee_report= coffee_machine_report['coffee']\n",
    "\n",
    "        print(f'The remaining resources are \\nWater: {water_report}\\nMilk: {milk_report}\\nCoffee: {coffee_report}')\n",
    "\n",
    "report(user_report_input)"
   ]
  }
 ],
 "metadata": {
  "kernelspec": {
   "display_name": "Python 3",
   "language": "python",
   "name": "python3"
  },
  "language_info": {
   "codemirror_mode": {
    "name": "ipython",
    "version": 3
   },
   "file_extension": ".py",
   "mimetype": "text/x-python",
   "name": "python",
   "nbconvert_exporter": "python",
   "pygments_lexer": "ipython3",
   "version": "3.10.13"
  }
 },
 "nbformat": 4,
 "nbformat_minor": 2
}
