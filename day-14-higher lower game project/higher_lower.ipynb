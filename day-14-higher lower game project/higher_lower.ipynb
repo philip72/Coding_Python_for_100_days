{
 "cells": [
  {
   "cell_type": "code",
   "execution_count": 2,
   "metadata": {},
   "outputs": [
    {
     "name": "stdout",
     "output_type": "stream",
     "text": [
      "The key 'name' appears 100 times.\n",
      "[{'name': 'Sarah Liu', 'follower_count': 294, 'description': 'Records manager', 'country': 'Honduras'}, {'name': 'Jennifer Hahn', 'follower_count': 163, 'description': 'Facilities manager', 'country': 'Germany'}, {'name': 'Christina Shaffer', 'follower_count': 319, 'description': 'Designer, furniture', 'country': 'Turks and Caicos Islands'}, {'name': 'Amy Austin', 'follower_count': 233, 'description': 'Haematologist', 'country': 'Taiwan'}, {'name': 'Debra Baker', 'follower_count': 102, 'description': 'Financial planner', 'country': 'Christmas Island'}, {'name': 'Bridget Miller', 'follower_count': 485, 'description': 'Energy manager', 'country': 'Israel'}, {'name': 'Daniel Spencer', 'follower_count': 125, 'description': 'Adult nurse', 'country': 'Libyan Arab Jamahiriya'}, {'name': 'Mark King', 'follower_count': 329, 'description': 'Industrial buyer', 'country': 'Philippines'}, {'name': 'Paul Jensen', 'follower_count': 221, 'description': 'Arts administrator', 'country': 'Romania'}, {'name': 'Kevin Simmons', 'follower_count': 212, 'description': 'Insurance broker', 'country': 'British Virgin Islands'}, {'name': 'Albert Hernandez', 'follower_count': 315, 'description': 'Legal secretary', 'country': 'Bosnia and Herzegovina'}, {'name': 'Ashley Thompson', 'follower_count': 433, 'description': 'Sports development officer', 'country': 'Suriname'}, {'name': 'Karen Barnes', 'follower_count': 350, 'description': \"Barrister's clerk\", 'country': 'Martinique'}, {'name': 'Monica Kennedy', 'follower_count': 417, 'description': 'Fast food restaurant manager', 'country': 'Oman'}, {'name': 'Timothy Mullins', 'follower_count': 416, 'description': 'Food technologist', 'country': 'Turkmenistan'}, {'name': 'Christina Davis', 'follower_count': 286, 'description': 'Petroleum engineer', 'country': 'Philippines'}, {'name': 'Katherine Gardner', 'follower_count': 415, 'description': 'Animal technologist', 'country': 'Tonga'}, {'name': 'Mark Maynard', 'follower_count': 150, 'description': 'Associate Professor', 'country': 'Congo'}, {'name': 'Rebecca Bishop', 'follower_count': 293, 'description': 'Audiological scientist', 'country': 'Djibouti'}, {'name': 'Dr. Amber Obrien', 'follower_count': 313, 'description': 'Chartered public finance accountant', 'country': 'United States of America'}, {'name': 'Nichole Lopez', 'follower_count': 144, 'description': 'Pension scheme manager', 'country': 'Western Sahara'}, {'name': 'Daniel Martinez', 'follower_count': 396, 'description': 'Librarian, academic', 'country': 'Estonia'}, {'name': 'Denise Downs', 'follower_count': 296, 'description': 'Colour technologist', 'country': 'Sudan'}, {'name': 'Jeffrey Black', 'follower_count': 500, 'description': 'Programme researcher, broadcasting/film/video', 'country': 'French Polynesia'}, {'name': 'Andrew Foley', 'follower_count': 386, 'description': 'Field trials officer', 'country': 'Eritrea'}, {'name': 'Roger Hayes', 'follower_count': 382, 'description': 'Teacher, English as a foreign language', 'country': 'Hong Kong'}, {'name': 'Sarah Lucero', 'follower_count': 480, 'description': 'IT consultant', 'country': 'Nauru'}, {'name': 'Michael Blevins', 'follower_count': 256, 'description': 'Training and development officer', 'country': 'Congo'}, {'name': 'John Mckay', 'follower_count': 447, 'description': 'Public relations account executive', 'country': 'Kyrgyz Republic'}, {'name': 'Sean Fox', 'follower_count': 427, 'description': 'Sports development officer', 'country': 'Saint Barthelemy'}, {'name': 'James Henry', 'follower_count': 359, 'description': 'Wellsite geologist', 'country': 'North Macedonia'}, {'name': 'Jennifer Mcintosh', 'follower_count': 123, 'description': 'Legal executive', 'country': 'Kyrgyz Republic'}, {'name': 'Cameron Morgan', 'follower_count': 221, 'description': 'Presenter, broadcasting', 'country': 'Malawi'}, {'name': 'Lynn Bartlett', 'follower_count': 357, 'description': 'Lobbyist', 'country': 'Saint Helena'}, {'name': 'Haley Nash', 'follower_count': 381, 'description': 'Chief Technology Officer', 'country': 'Slovenia'}, {'name': 'Jason Mitchell', 'follower_count': 301, 'description': 'Equities trader', 'country': 'Faroe Islands'}, {'name': 'Tara White', 'follower_count': 318, 'description': 'Multimedia specialist', 'country': 'Saint Martin'}, {'name': 'Megan Medina', 'follower_count': 177, 'description': 'Plant breeder/geneticist', 'country': 'Sudan'}, {'name': 'Joyce Fry', 'follower_count': 499, 'description': 'Occupational hygienist', 'country': 'Heard Island and McDonald Islands'}, {'name': 'Debbie Perkins', 'follower_count': 252, 'description': 'Freight forwarder', 'country': 'Sudan'}, {'name': 'Gregory Curtis', 'follower_count': 305, 'description': 'Nature conservation officer', 'country': 'Falkland Islands (Malvinas)'}, {'name': 'Ashley Mason', 'follower_count': 383, 'description': 'Surveyor, commercial/residential', 'country': 'Italy'}, {'name': 'Robert Foley', 'follower_count': 476, 'description': 'Scientist, clinical (histocompatibility and immunogenetics)', 'country': 'Tanzania'}, {'name': 'Briana Lewis', 'follower_count': 245, 'description': 'Clinical research associate', 'country': 'Uzbekistan'}, {'name': 'Scott Baker', 'follower_count': 413, 'description': 'English as a foreign language teacher', 'country': 'Cook Islands'}, {'name': 'Bradley Alvarado', 'follower_count': 303, 'description': 'Art therapist', 'country': 'Samoa'}, {'name': 'Tonya Maddox', 'follower_count': 390, 'description': 'Arboriculturist', 'country': 'Cook Islands'}, {'name': 'Randall Graham', 'follower_count': 290, 'description': 'Press sub', 'country': 'Kenya'}, {'name': 'Lauren Owens', 'follower_count': 420, 'description': 'Publishing copy', 'country': 'Heard Island and McDonald Islands'}, {'name': 'Steven Jackson', 'follower_count': 160, 'description': 'Magazine journalist', 'country': 'Cocos (Keeling) Islands'}, {'name': 'Terry Reed', 'follower_count': 443, 'description': 'Land/geomatics surveyor', 'country': 'Peru'}, {'name': 'Tanner Joseph', 'follower_count': 399, 'description': 'Estate manager/land agent', 'country': 'Holy See (Vatican City State)'}, {'name': 'Ryan Randall', 'follower_count': 146, 'description': 'Insurance broker', 'country': 'France'}, {'name': 'Dennis Bautista', 'follower_count': 325, 'description': 'Museum education officer', 'country': 'Fiji'}, {'name': 'Michael Nguyen', 'follower_count': 101, 'description': 'Dance movement psychotherapist', 'country': 'Tanzania'}, {'name': 'Jill Mason', 'follower_count': 469, 'description': 'Management consultant', 'country': 'Comoros'}, {'name': 'Erika Ayala', 'follower_count': 411, 'description': 'Professor Emeritus', 'country': 'Saudi Arabia'}, {'name': 'Mr. Mark Hopkins', 'follower_count': 300, 'description': 'Administrator, Civil Service', 'country': 'Iceland'}, {'name': 'Carrie Wyatt', 'follower_count': 384, 'description': 'Science writer', 'country': 'United Arab Emirates'}, {'name': 'Adam Stewart', 'follower_count': 157, 'description': 'Broadcast presenter', 'country': 'South Africa'}, {'name': 'Tammy Douglas', 'follower_count': 446, 'description': 'Computer games developer', 'country': 'Nepal'}, {'name': 'Phillip Bowman', 'follower_count': 418, 'description': 'Forensic psychologist', 'country': 'Holy See (Vatican City State)'}, {'name': 'Edward Villanueva', 'follower_count': 355, 'description': 'Theatre stage manager', 'country': 'Algeria'}, {'name': 'Kelly Hester', 'follower_count': 452, 'description': 'Clinical embryologist', 'country': 'Nicaragua'}, {'name': 'Arthur Sanchez', 'follower_count': 387, 'description': 'Financial manager', 'country': 'Bolivia'}, {'name': 'Lindsay Brown', 'follower_count': 236, 'description': 'Proofreader', 'country': 'Colombia'}, {'name': 'Dr. Gabriella Combs', 'follower_count': 346, 'description': 'Magazine features editor', 'country': 'Saint Kitts and Nevis'}, {'name': 'Jared Orozco', 'follower_count': 500, 'description': 'Therapist, horticultural', 'country': 'British Virgin Islands'}, {'name': 'Kyle Bishop', 'follower_count': 446, 'description': 'Financial adviser', 'country': 'Saint Helena'}, {'name': 'Chelsea Johnson', 'follower_count': 225, 'description': 'Freight forwarder', 'country': 'Saint Kitts and Nevis'}, {'name': 'Mary Clark', 'follower_count': 289, 'description': 'Forensic scientist', 'country': 'Bahrain'}, {'name': 'Nathaniel Webb', 'follower_count': 470, 'description': 'Tax inspector', 'country': 'Mongolia'}, {'name': 'Stacey Maddox', 'follower_count': 364, 'description': 'Chief of Staff', 'country': 'Uganda'}, {'name': 'Lisa Jones', 'follower_count': 499, 'description': 'Programmer, multimedia', 'country': 'Syrian Arab Republic'}, {'name': 'Ryan Mcintosh', 'follower_count': 302, 'description': 'Barrister', 'country': 'China'}, {'name': 'Joshua Baldwin', 'follower_count': 408, 'description': 'Seismic interpreter', 'country': 'Svalbard & Jan Mayen Islands'}, {'name': 'Erica Barrett', 'follower_count': 337, 'description': 'Dancer', 'country': 'Panama'}, {'name': 'Helen Joseph', 'follower_count': 336, 'description': 'Theme park manager', 'country': 'Grenada'}, {'name': 'Tonya Reed', 'follower_count': 389, 'description': 'Administrator, arts', 'country': 'Nigeria'}, {'name': 'Dana Wilson', 'follower_count': 343, 'description': 'Producer, radio', 'country': 'Sao Tome and Principe'}, {'name': 'Jamie Bryan MD', 'follower_count': 422, 'description': 'Call centre manager', 'country': 'Monaco'}, {'name': 'Jared Walsh', 'follower_count': 473, 'description': 'Patent attorney', 'country': 'Zimbabwe'}, {'name': 'Warren Black', 'follower_count': 270, 'description': 'Amenity horticulturist', 'country': 'Iran'}, {'name': 'Sarah Tyler', 'follower_count': 159, 'description': 'Chief Marketing Officer', 'country': 'Armenia'}, {'name': 'Reginald Morris', 'follower_count': 269, 'description': 'Tax adviser', 'country': 'Mauritius'}, {'name': 'Casey Reid', 'follower_count': 316, 'description': 'Scientist, research (life sciences)', 'country': 'Cambodia'}, {'name': 'Shawn Hernandez', 'follower_count': 116, 'description': 'Careers information officer', 'country': 'Colombia'}, {'name': 'Carl Dunn', 'follower_count': 245, 'description': 'Production assistant, radio', 'country': 'Malaysia'}, {'name': 'Mr. Phillip Martin', 'follower_count': 270, 'description': 'Agricultural consultant', 'country': 'Mongolia'}, {'name': 'Christopher Cantrell', 'follower_count': 403, 'description': 'Trade mark attorney', 'country': 'Colombia'}, {'name': 'Sandra Swanson', 'follower_count': 417, 'description': 'Presenter, broadcasting', 'country': 'Cameroon'}, {'name': 'Kevin Glover', 'follower_count': 157, 'description': 'Armed forces logistics/support/administrative officer', 'country': 'Guinea'}, {'name': 'Catherine Rodgers', 'follower_count': 229, 'description': 'Health and safety inspector', 'country': 'Nepal'}, {'name': 'Alex Robertson', 'follower_count': 206, 'description': 'Armed forces operational officer', 'country': 'British Virgin Islands'}, {'name': 'Cole Sanchez', 'follower_count': 192, 'description': 'Tax inspector', 'country': 'Czech Republic'}, {'name': 'Bryan Duncan', 'follower_count': 432, 'description': 'Statistician', 'country': 'Bermuda'}, {'name': 'Sue Roberts', 'follower_count': 335, 'description': 'Surveyor, mining', 'country': 'Reunion'}, {'name': 'Sarah Williams', 'follower_count': 241, 'description': 'Chartered legal executive (England and Wales)', 'country': 'Bermuda'}, {'name': 'Spencer Snyder', 'follower_count': 225, 'description': 'Accountant, chartered', 'country': 'Qatar'}, {'name': 'Joseph Hamilton', 'follower_count': 450, 'description': 'Geophysical data processor', 'country': 'Myanmar'}]\n"
     ]
    }
   ],
   "source": [
    "import data\n",
    "\n",
    "print(data.data)"
   ]
  },
  {
   "cell_type": "code",
   "execution_count": 23,
   "metadata": {},
   "outputs": [
    {
     "name": "stdout",
     "output_type": "stream",
     "text": [
      "Randomly Picked Dictionary:\n",
      "name: (Ryan Mcintosh\n",
      "follower_count: (302\n",
      "description: (Barrister\n",
      "country: (China\n",
      "----\n",
      "Randomly Picked Dictionary:\n",
      "name: (Amy Austin\n",
      "follower_count: (233\n",
      "description: (Haematologist\n",
      "country: (Taiwan\n",
      "----\n",
      "[{'name': 'Ryan Mcintosh', 'follower_count': 302, 'description': 'Barrister', 'country': 'China'}, {'name': 'Amy Austin', 'follower_count': 233, 'description': 'Haematologist', 'country': 'Taiwan'}]\n",
      "302\n",
      "233\n"
     ]
    }
   ],
   "source": [
    "counter_point= 0\n",
    "game_on= True\n",
    "data_import= data.data\n",
    "\n",
    "# for person_dict in data_import:\n",
    "#     for key, value in person_dict.items():\n",
    "#         print(f'These are the keys : {key} and this is the value {value}')\n",
    "\n",
    "new_list=[]\n",
    "import random\n",
    "# Randomly pick dictionaries from the nested list\n",
    "num_dictionaries_to_pick = 2  # Change this to the number of dictionaries you want to pick\n",
    "random_dictionaries = random.sample(data_import, min(num_dictionaries_to_pick, len(data_import)))\n",
    "\n",
    "# Print the randomly picked dictionaries\n",
    "for person_dict in random_dictionaries:\n",
    "    print(\"Randomly Picked Dictionary:\")\n",
    "    for key, value in person_dict.items():\n",
    "        print(f\"{key}: ({value}\")\n",
    "        new_list.append(random_dictionaries)\n",
    "    print(\"----\")\n",
    "\n",
    "print(random_dictionaries)\n",
    "# while game_on:\n",
    "followers_count= 'follower_count'\n",
    "for person_dict in random_dictionaries:\n",
    "    print(person_dict['follower_count'])\n",
    "    \n"
   ]
  }
 ],
 "metadata": {
  "kernelspec": {
   "display_name": "Python 3",
   "language": "python",
   "name": "python3"
  },
  "language_info": {
   "codemirror_mode": {
    "name": "ipython",
    "version": 3
   },
   "file_extension": ".py",
   "mimetype": "text/x-python",
   "name": "python",
   "nbconvert_exporter": "python",
   "pygments_lexer": "ipython3",
   "version": "3.11.3"
  }
 },
 "nbformat": 4,
 "nbformat_minor": 2
}
