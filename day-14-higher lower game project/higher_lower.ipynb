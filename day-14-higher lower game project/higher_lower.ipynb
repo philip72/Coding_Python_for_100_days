{
 "cells": [
  {
   "cell_type": "code",
   "execution_count": 17,
   "metadata": {},
   "outputs": [
    {
     "name": "stdout",
     "output_type": "stream",
     "text": [
      "[{'name': 'Anthony Long', 'follower_count': 229, 'description': 'Energy engineer', 'country': 'Liberia'}, {'name': 'Luis Hale', 'follower_count': 448, 'description': 'Animal technologist', 'country': 'Botswana'}, {'name': 'Isaiah Wood', 'follower_count': 237, 'description': 'Psychotherapist, child', 'country': 'Moldova'}, {'name': 'Bryan Brown', 'follower_count': 217, 'description': 'Veterinary surgeon', 'country': 'Austria'}, {'name': 'Charlene Alvarez', 'follower_count': 436, 'description': 'Associate Professor', 'country': 'Kiribati'}, {'name': 'James Burns', 'follower_count': 451, 'description': 'Civil Service administrator', 'country': 'United Arab Emirates'}, {'name': 'Timothy Benjamin', 'follower_count': 487, 'description': 'Intelligence analyst', 'country': 'Niue'}, {'name': 'Laura Cox', 'follower_count': 117, 'description': 'Architect', 'country': 'British Virgin Islands'}, {'name': 'Tonya Allen', 'follower_count': 264, 'description': 'Lecturer, further education', 'country': 'Iceland'}, {'name': 'Joseph Smith', 'follower_count': 471, 'description': 'Facilities manager', 'country': 'San Marino'}, {'name': 'Tanner Hicks', 'follower_count': 181, 'description': 'Microbiologist', 'country': 'Martinique'}, {'name': 'Angela Alvarado', 'follower_count': 333, 'description': 'Firefighter', 'country': 'Romania'}, {'name': 'Adrian Kerr', 'follower_count': 444, 'description': 'Newspaper journalist', 'country': 'Cook Islands'}, {'name': 'Louis Wood', 'follower_count': 333, 'description': 'Government social research officer', 'country': 'Sao Tome and Principe'}, {'name': 'Erica Powell', 'follower_count': 182, 'description': 'Conference centre manager', 'country': 'Afghanistan'}, {'name': 'Beth Mason', 'follower_count': 443, 'description': 'Paramedic', 'country': 'Azerbaijan'}, {'name': 'Michelle Hanson', 'follower_count': 175, 'description': 'Building services engineer', 'country': 'Sri Lanka'}, {'name': 'Jessica Stevenson', 'follower_count': 156, 'description': 'Textile designer', 'country': 'Ecuador'}, {'name': 'Jean Williams', 'follower_count': 394, 'description': 'Immigration officer', 'country': 'Tuvalu'}, {'name': 'John Noble', 'follower_count': 118, 'description': 'Animal technologist', 'country': 'Timor-Leste'}, {'name': 'Barbara Clements', 'follower_count': 211, 'description': 'Geologist, engineering', 'country': 'Romania'}, {'name': 'Melissa Fernandez', 'follower_count': 371, 'description': 'Social worker', 'country': 'French Polynesia'}, {'name': 'Kristen Fleming', 'follower_count': 345, 'description': 'Clothing/textile technologist', 'country': 'Comoros'}, {'name': 'Amanda Reed', 'follower_count': 471, 'description': 'Designer, ceramics/pottery', 'country': 'Mozambique'}, {'name': 'Carlos Esparza', 'follower_count': 259, 'description': 'Investment banker, operational', 'country': 'Kuwait'}, {'name': 'Kristen Sandoval', 'follower_count': 454, 'description': 'Chief Strategy Officer', 'country': 'Guyana'}, {'name': 'Jillian Whitehead', 'follower_count': 241, 'description': 'Librarian, public', 'country': 'United States Virgin Islands'}, {'name': 'Robert Morris', 'follower_count': 466, 'description': 'Surveyor, building', 'country': 'Suriname'}, {'name': 'Darius Barrett', 'follower_count': 105, 'description': 'Network engineer', 'country': 'Niue'}, {'name': 'Timothy Salas', 'follower_count': 153, 'description': 'Chartered loss adjuster', 'country': 'Colombia'}, {'name': 'Carolyn Tapia MD', 'follower_count': 162, 'description': 'Scientist, marine', 'country': 'American Samoa'}, {'name': 'Misty Franco', 'follower_count': 351, 'description': 'Psychiatric nurse', 'country': 'Venezuela'}, {'name': 'John Sparks', 'follower_count': 407, 'description': 'Teacher, English as a foreign language', 'country': 'Sudan'}, {'name': 'Amber Kane', 'follower_count': 268, 'description': 'Engineer, petroleum', 'country': 'Micronesia'}, {'name': 'Misty Cline', 'follower_count': 192, 'description': \"Politician's assistant\", 'country': 'Gibraltar'}, {'name': 'Daniel Singleton', 'follower_count': 144, 'description': 'Chartered loss adjuster', 'country': 'Guatemala'}, {'name': 'Angela Baker', 'follower_count': 257, 'description': 'Estate manager/land agent', 'country': 'Lesotho'}, {'name': 'Alexandra Delgado', 'follower_count': 296, 'description': 'Theme park manager', 'country': 'Antigua and Barbuda'}, {'name': 'Christopher Joseph', 'follower_count': 193, 'description': 'Dramatherapist', 'country': 'Pitcairn Islands'}, {'name': 'Timothy Norman', 'follower_count': 455, 'description': 'Public relations officer', 'country': 'United Kingdom'}, {'name': 'John Williams', 'follower_count': 247, 'description': 'Lecturer, higher education', 'country': 'Western Sahara'}, {'name': 'Derrick Lopez', 'follower_count': 209, 'description': 'Designer, graphic', 'country': 'Tokelau'}, {'name': 'Alexis Chandler', 'follower_count': 439, 'description': 'Naval architect', 'country': 'Thailand'}, {'name': 'Erica Rhodes', 'follower_count': 347, 'description': 'Outdoor activities/education manager', 'country': 'Sao Tome and Principe'}, {'name': 'Juan Mcbride', 'follower_count': 231, 'description': 'Fine artist', 'country': 'Marshall Islands'}, {'name': 'Stephen Hamilton', 'follower_count': 277, 'description': 'Water engineer', 'country': 'Azerbaijan'}, {'name': 'Tammy Martinez', 'follower_count': 236, 'description': 'Geophysicist/field seismologist', 'country': 'Ethiopia'}, {'name': 'Christopher Johnson', 'follower_count': 173, 'description': 'Associate Professor', 'country': 'Saint Barthelemy'}, {'name': 'Tina Jordan', 'follower_count': 294, 'description': 'Administrator, arts', 'country': 'Monaco'}, {'name': 'Michael Morrow', 'follower_count': 234, 'description': 'Commissioning editor', 'country': 'Tonga'}, {'name': 'Jose Richardson', 'follower_count': 386, 'description': 'Hospital doctor', 'country': 'Holy See (Vatican City State)'}, {'name': 'Clinton Graham', 'follower_count': 379, 'description': 'Special educational needs teacher', 'country': 'Russian Federation'}, {'name': 'Lauren Deleon', 'follower_count': 111, 'description': 'Seismic interpreter', 'country': 'Albania'}, {'name': 'John Taylor', 'follower_count': 373, 'description': 'Metallurgist', 'country': 'India'}, {'name': 'Julia Gonzalez', 'follower_count': 427, 'description': 'Mental health nurse', 'country': 'Georgia'}, {'name': 'Richard Morales', 'follower_count': 313, 'description': 'Adult guidance worker', 'country': 'Azerbaijan'}, {'name': 'Bradley Chavez', 'follower_count': 196, 'description': 'Press sub', 'country': 'China'}, {'name': 'John Harris', 'follower_count': 146, 'description': 'Archivist', 'country': 'Gambia'}, {'name': 'Justin Kelly', 'follower_count': 296, 'description': 'Oncologist', 'country': 'Grenada'}, {'name': 'Tara Thomas', 'follower_count': 378, 'description': 'Chemist, analytical', 'country': 'Barbados'}, {'name': 'Jeffrey Thomas', 'follower_count': 251, 'description': 'Photographer', 'country': 'Bosnia and Herzegovina'}, {'name': 'Parker George', 'follower_count': 468, 'description': 'Pilot, airline', 'country': 'Belize'}, {'name': 'Margaret Rose', 'follower_count': 293, 'description': 'Restaurant manager', 'country': 'Malta'}, {'name': 'Timothy Alvarez', 'follower_count': 162, 'description': 'Chemical engineer', 'country': 'Martinique'}, {'name': 'Ashley Nelson', 'follower_count': 439, 'description': 'Transport planner', 'country': 'Ukraine'}, {'name': 'Kristin Morris', 'follower_count': 294, 'description': 'Colour technologist', 'country': 'Somalia'}, {'name': 'Jeffery King', 'follower_count': 348, 'description': 'Community development worker', 'country': 'Sri Lanka'}, {'name': 'Richard Hernandez', 'follower_count': 204, 'description': 'Stage manager', 'country': 'Georgia'}, {'name': 'Jasmine Franco', 'follower_count': 226, 'description': 'Chartered accountant', 'country': 'Madagascar'}, {'name': 'Robert Martinez', 'follower_count': 357, 'description': 'Exercise physiologist', 'country': 'Nauru'}, {'name': 'Ashley Johnson', 'follower_count': 367, 'description': 'Senior tax professional/tax inspector', 'country': 'Wallis and Futuna'}, {'name': 'Beverly Moore', 'follower_count': 256, 'description': 'Engineer, technical sales', 'country': 'Jamaica'}, {'name': 'Dalton Foley', 'follower_count': 186, 'description': 'Graphic designer', 'country': 'Northern Mariana Islands'}, {'name': 'Jared Maynard', 'follower_count': 296, 'description': 'Insurance risk surveyor', 'country': 'El Salvador'}, {'name': 'Ryan Fernandez', 'follower_count': 404, 'description': 'Occupational psychologist', 'country': 'Angola'}, {'name': 'Daniel Pacheco', 'follower_count': 308, 'description': 'Chartered legal executive (England and Wales)', 'country': 'Qatar'}, {'name': 'Maria Martin', 'follower_count': 225, 'description': 'Social research officer, government', 'country': 'Saudi Arabia'}, {'name': 'Isabella White MD', 'follower_count': 443, 'description': 'Contractor', 'country': 'Peru'}, {'name': 'Jocelyn Wright', 'follower_count': 174, 'description': 'Engineer, manufacturing systems', 'country': 'Honduras'}, {'name': 'Justin Macdonald', 'follower_count': 231, 'description': 'Camera operator', 'country': 'Montenegro'}, {'name': 'Steven Graham DDS', 'follower_count': 249, 'description': 'Commissioning editor', 'country': 'Estonia'}, {'name': 'Dale Hansen', 'follower_count': 345, 'description': 'Systems analyst', 'country': 'Mongolia'}, {'name': 'Dana Kennedy', 'follower_count': 293, 'description': 'Nature conservation officer', 'country': 'Barbados'}, {'name': 'Sarah Allen', 'follower_count': 327, 'description': 'Futures trader', 'country': 'France'}, {'name': 'Tonya Carey', 'follower_count': 156, 'description': 'Administrator, arts', 'country': 'French Polynesia'}, {'name': 'Christina Salas', 'follower_count': 208, 'description': 'Engineer, petroleum', 'country': 'Italy'}, {'name': 'Madison Alvarez', 'follower_count': 216, 'description': 'Orthoptist', 'country': 'Indonesia'}, {'name': 'Aaron Harper', 'follower_count': 292, 'description': 'Environmental manager', 'country': 'Mozambique'}, {'name': 'Emily Davis', 'follower_count': 453, 'description': 'Hotel manager', 'country': 'Japan'}, {'name': 'Brittany Armstrong', 'follower_count': 499, 'description': 'Lighting technician, broadcasting/film/video', 'country': 'Fiji'}, {'name': 'Laura Yates', 'follower_count': 156, 'description': 'Education officer, museum', 'country': 'Saudi Arabia'}, {'name': 'Jonathan Jackson', 'follower_count': 489, 'description': 'Financial controller', 'country': 'Comoros'}, {'name': 'Kenneth Walter', 'follower_count': 200, 'description': 'Animal nutritionist', 'country': 'Italy'}, {'name': 'Dr. Michael Riley', 'follower_count': 204, 'description': 'Colour technologist', 'country': 'Saint Lucia'}, {'name': 'Karen Kennedy', 'follower_count': 230, 'description': 'Production assistant, television', 'country': 'Cambodia'}, {'name': 'Teresa Becker', 'follower_count': 192, 'description': 'Surveyor, mining', 'country': 'Niue'}, {'name': 'Michael Thomas', 'follower_count': 353, 'description': 'TEFL teacher', 'country': 'Luxembourg'}, {'name': 'Madeline Klein', 'follower_count': 132, 'description': 'Set designer', 'country': 'Faroe Islands'}, {'name': 'Kenneth Warren', 'follower_count': 351, 'description': 'Solicitor, Scotland', 'country': 'Burkina Faso'}, {'name': 'Elijah Torres', 'follower_count': 187, 'description': 'Government social research officer', 'country': 'Nigeria'}]\n"
     ]
    }
   ],
   "source": [
    "import data\n",
    "\n",
    "print(data.data)"
   ]
  },
  {
   "cell_type": "code",
   "execution_count": 35,
   "metadata": {},
   "outputs": [
    {
     "name": "stdout",
     "output_type": "stream",
     "text": [
      "Randomly Picked Dictionary:\n",
      "name: (Amanda Reed\n",
      "follower_count: (471\n",
      "description: (Designer, ceramics/pottery\n",
      "country: (Mozambique\n",
      "----\n",
      "Randomly Picked Dictionary:\n",
      "name: (Timothy Benjamin\n",
      "follower_count: (487\n",
      "description: (Intelligence analyst\n",
      "country: (Niue\n",
      "----\n",
      "471\n",
      "487\n",
      "[{'name': 'Jonathan Jackson', 'follower_count': 489, 'description': 'Financial controller', 'country': 'Comoros'}]\n"
     ]
    }
   ],
   "source": [
    "counter_point= 0\n",
    "game_on= True\n",
    "data_import= data.data\n",
    "\n",
    "# for person_dict in data_import:\n",
    "#     for key, value in person_dict.items():\n",
    "#         print(f'These are the keys : {key} and this is the value {value}')\n",
    "\n",
    "new_list=[]\n",
    "import random\n",
    "# Randomly pick dictionaries from the nested list\n",
    "num_dictionaries_to_pick = 2  # Change this to the number of dictionaries you want to pick\n",
    "random_dictionaries = random.sample(data_import, min(num_dictionaries_to_pick, len(data_import)))\n",
    "\n",
    "# Print the randomly picked dictionaries\n",
    "for person_dict in random_dictionaries:\n",
    "    print(\"Randomly Picked Dictionary:\")\n",
    "    for key, value in person_dict.items():\n",
    "        print(f\"{key}: ({value}\")\n",
    "        new_list.append(random_dictionaries)\n",
    "    print(\"----\")\n",
    "\n",
    "# print(random_dictionaries)\n",
    "# while game_on:\n",
    "selected_dict= {}\n",
    "followers_count= 'follower_count'\n",
    "for person_dict in random_dictionaries:\n",
    "    \n",
    "    print(person_dict['follower_count'])\n",
    "#     for key, value in person_dict.items():\n",
    "        \n",
    "#         # for i in range(len(random_dictionaries)-1):\n",
    "#         #     value1= random_dictionaries[i]['follower_count']\n",
    "#         #     value2= random_dictionaries[i+1]['follower_count']\n",
    "#         #     if value1> value2:\n",
    "#         #         selected_dict[key]=value\n",
    "            \n",
    "#             # print(f'these are value {value1} and value {value2}')\n",
    "# print(selected_dict)\n",
    "\n",
    "for i in range(len(random_dictionaries)-1):\n",
    "    value1= random_dictionaries[i]['follower_count']\n",
    "    value2= random_dictionaries[i+1]['follower_count']\n",
    "    if value1> value2:\n",
    "        selected_dict=random_dictionaries[i]\n",
    "    else:\n",
    "        selected_dict=random_dictionaries[i+1]\n",
    "\n",
    "\n",
    "\n",
    "\n",
    "num_dictionar_to_pick = 1  # Change this to the number of dictionaries you want to pick\n",
    "rand_dictionaries = random.sample(data_import, min(num_dictionar_to_pick, len(data_import)))\n",
    "print(rand_dictionaries)\n",
    "for i in range(len(rand_dictionaries)-1):\n",
    "    value1= selected_dict['follower_count']\n",
    "    value2= rand_dictionaries[i]['follower_count']\n",
    "    print(value1)\n",
    "\n",
    "    \n",
    "    \n"
   ]
  }
 ],
 "metadata": {
  "kernelspec": {
   "display_name": "Python 3",
   "language": "python",
   "name": "python3"
  },
  "language_info": {
   "codemirror_mode": {
    "name": "ipython",
    "version": 3
   },
   "file_extension": ".py",
   "mimetype": "text/x-python",
   "name": "python",
   "nbconvert_exporter": "python",
   "pygments_lexer": "ipython3",
   "version": "3.10.13"
  }
 },
 "nbformat": 4,
 "nbformat_minor": 2
}
